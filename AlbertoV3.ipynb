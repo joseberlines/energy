{
 "cells": [
  {
   "cell_type": "code",
   "execution_count": 29,
   "id": "f818c5eb-6e61-4db5-8f88-9c40f4972feb",
   "metadata": {},
   "outputs": [],
   "source": [
    "# importing the libraries\n",
    "from bs4 import BeautifulSoup\n",
    "import requests\n",
    "import pandas as pd\n",
    "import itertools\n",
    "import os\n",
    "from time import time\n",
    "from pathlib import Path\n",
    "import os\n",
    "import json"
   ]
  },
  {
   "cell_type": "code",
   "execution_count": 30,
   "id": "cd4b953e-312d-4e60-a339-20462b86f72f",
   "metadata": {
    "tags": []
   },
   "outputs": [],
   "source": [
    "def create_urls_table_blank(step = 10, overwrite=True,file_name=\"urls_table.csv\"):\n",
    "    '''\n",
    "    Puts together all the urls that would list (by accessing every one of those) all the data of the web site.\n",
    "    step = how many rows has the table displayed per url.\n",
    "    \n",
    "    For instance if you take step = 200 the pages will show 200 companies per page.\n",
    "\n",
    "    '''\n",
    "    \n",
    "    # get the last number added\n",
    "    total = 271605 # according to the web the total amount of entries is this one\n",
    "    total_urls = total//step\n",
    "    parameters = [i*step for i in range(total_urls)] + [total]\n",
    "    all_urls =[]\n",
    "    for i,para in enumerate(parameters):\n",
    "        url = f\"https://www.proplanta.de/Agrarsubventionen-2021-Liste-der-Empfaenger/proplanta_karten.php?ROalAk=271605&LaZ={step}&LsZ={para}&ROalAk=271605&SELECTID=1653383570&SEARCH_SHOWBEGS=1653383570\"\n",
    "        all_urls.append(url)\n",
    "    \n",
    "    df_urls = pd.DataFrame()\n",
    "    \n",
    "    df_urls['url'] = all_urls\n",
    "    df_urls = df_urls[[col for col in df_urls.columns if 'Unn' not in col]]\n",
    "    df_urls['DONE'] = 'NO'\n",
    "    \n",
    "    if overwrite:\n",
    "        #create_urls_table_blank\n",
    "        df_urls.to_csv(file_name)\n",
    "        rows = len(df_urls)\n",
    "        print(f\"{file_name} created with {rows} rows, with every row being a table of {step} companies.\")\n",
    "    else:\n",
    "        raise f\"There is already a file named {file_name}: delete it manually and run this again\"\n",
    "    \n",
    "    return df_urls\n"
   ]
  },
  {
   "cell_type": "code",
   "execution_count": 31,
   "id": "83de7141-d3b8-485e-813b-64d7784f2475",
   "metadata": {
    "tags": []
   },
   "outputs": [],
   "source": [
    "def get_remaining_urls(step=10,file_name=\"urls_table.csv\"):\n",
    "    '''\n",
    "    returns a list with all the urls still to do\n",
    "    '''\n",
    "    if os.path.exists(file_name) == False:\n",
    "        create_urls_table_blank(step)\n",
    "        \n",
    "    df = pd.read_csv(file_name)\n",
    "    rows = len(df)\n",
    "    \n",
    "    mask = df['DONE'] =='NO'\n",
    "    #only gives back the data not mark as DONE YES\n",
    "    result = df.loc[mask,'url'].tolist()\n",
    "    print(f\"{file_name} read with {rows} rows with {len(result)} remaining to be dowloaded.\")\n",
    "    return result\n"
   ]
  },
  {
   "cell_type": "code",
   "execution_count": 32,
   "id": "9b54ba6e-305a-40cc-85e8-fb314d6077df",
   "metadata": {
    "tags": []
   },
   "outputs": [],
   "source": [
    "def mark_one_url_as_done(query_value_for_column, \n",
    "                         col_input='url',\n",
    "                         col_to_change = 'DONE',\n",
    "                         value_for_change = 'YES',\n",
    "                         file_name=\"urls_table.csv\"):\n",
    "    '''\n",
    "    since we dont want to make all the 270000 calls in one go this is a way to mark up bit a bit what was done\n",
    "    '''\n",
    "    df = pd.read_csv(file_name)\n",
    "    if col_input not in df.columns:\n",
    "        raise f\"wooow pass a col name that is present in the dataframe please. {col_input} is not in {df.columns}\"\n",
    "    # read file and modify it\n",
    "    \n",
    "    mask1 = df[col_input] == query_value_for_column\n",
    "    # caveats Try using .loc[row_indexer,col_indexer] = value instead\n",
    "    df.loc[mask1,col_to_change]=value_for_change\n",
    "    df.to_csv(file_name, index=False)\n",
    "    return # nothing is returned because the table is saved again"
   ]
  },
  {
   "cell_type": "code",
   "execution_count": 33,
   "id": "bcd779c6-9e3e-4784-b495-5d02580f5a77",
   "metadata": {
    "tags": []
   },
   "outputs": [],
   "source": [
    "def get_data_of_one_url_table(url, DEBUG=False):\n",
    "    '''\n",
    "    Make a GET request to fetch the raw HTML content of the url\n",
    "    INPUT:\n",
    "        url: like: 'https://www.proplanta.de/Agrarsubventionen-2021-Liste-der-Empfaenger/proplanta_karten.php?ROalAk=271605&LaZ=2&LsZ=2&ROalAk=271605&SELECTID=1653383570&SEARCH_SHOWBEGS=1653383570'\n",
    "    RETURNS:\n",
    "        list of dicts in the form of:\n",
    "        [{'total_sum': '12.649.000,18',\n",
    "          'link_total_sum': '',\n",
    "          'company': 'Land Mecklenburg-Vorpommern Ministerium für – 19061 Schwerin, Landeshauptstadt',\n",
    "          'link_company': '/karten/agrarsubventionen_2021-empfaenger22becefcfe9631bdec63c6f251515d00.html',\n",
    "          'location': 'Kreisfreie Stadt Schwerin, Landeshauptstadt',\n",
    "          'link_location': '/karten/kreisfreie_stadt_schwerin,_landeshauptstadt-agrarsubventionen_2021-landkreis_13004.html',\n",
    "          'Lander': 'Mecklenburg-Vorpommern',\n",
    "          'link_lander': '/karten/mecklenburg-vorpommern-agrarsubventionen_2021-bundesland_5a61ca66ef23199eb6afa5e9bb4779f1.html'},\n",
    "          {...\n",
    "          ]\n",
    "    \n",
    "    This lists of dicts corresponds to what you see when accesing one single page\n",
    "    \n",
    "    \n",
    "    '''\n",
    "    html_content = requests.get(url).text\n",
    "    soup = BeautifulSoup(html_content, \"lxml\")\n",
    "    \n",
    "    table = soup.find(\"table\",{\"class\":\"display dataTable\"})\n",
    "    if DEBUG: print('>>>>>>>>>>>>>>>>>>>>>>',url, table)\n",
    "    \n",
    "    all_data=[]\n",
    "    for i,row in enumerate(table.find_all('tr')):\n",
    "        if row.td is not None:\n",
    "            row_data_per_company = [(td.text,td.a.get('href')) if td.a and td.a.get('href') else (td.text,'') for td in row.find_all('td')]\n",
    "            elements_of_one_row=[]\n",
    "            \n",
    "            for tupple in row_data_per_company:\n",
    "                elements_of_one_row.extend(tupple)\n",
    "            if DEBUG: print(elements_of_one_row)\n",
    "            keys = ['Foerdersumme', 'link_total_sum','Begünstigter','link_company','Landkreis','link_location','BundesLand','link_lander']\n",
    "            d = dict(zip(keys,elements_of_one_row))\n",
    "            \n",
    "            all_data.append(d)\n",
    "    \n",
    "    return all_data"
   ]
  },
  {
   "cell_type": "code",
   "execution_count": 34,
   "id": "9177e9a6-f4c5-461e-b8c9-dd69512562b0",
   "metadata": {
    "tags": []
   },
   "outputs": [],
   "source": [
    "# example:\n",
    "DEBUG=False\n",
    "if DEBUG:\n",
    "    url='https://www.proplanta.de/Agrarsubventionen-2021-Liste-der-Empfaenger/proplanta_karten.php?ROalAk=271605&LaZ=2&LsZ=2&ROalAk=271605&SELECTID=1653383570&SEARCH_SHOWBEGS=1653383570'\n",
    "    print(url)\n",
    "    get_data_of_one_url_table(url)"
   ]
  },
  {
   "cell_type": "code",
   "execution_count": 35,
   "id": "07d26ffe-2098-4b4a-b543-c7e4ee519385",
   "metadata": {
    "tags": []
   },
   "outputs": [],
   "source": [
    "def get_basis_praemie_from_url(company_link,DEBUG=False):\n",
    "    if DEBUG: print(\"in soup:\",company_link)\n",
    "    html_content = requests.get(company_link).text\n",
    "    soup = BeautifulSoup(html_content, \"lxml\")\n",
    "    try:\n",
    "        t3 = soup.find(lambda tag:tag.name==\"h3\" and \"Basisprämie\" in tag.text).find_next_sibling().find_next_sibling(\"p\").find(\"span\").contents\n",
    "    except:\n",
    "        t3 = ''\n",
    "    basis_praemie = t3\n",
    "    if type(basis_praemie)==type([\"unalista\"]):\n",
    "        basis_praemie = basis_praemie[0]\n",
    "    \n",
    "    return basis_praemie"
   ]
  },
  {
   "cell_type": "code",
   "execution_count": 36,
   "id": "9cf94b2f-3f18-424f-9737-52579042884c",
   "metadata": {
    "tags": []
   },
   "outputs": [],
   "source": [
    "DEBUG=False\n",
    "if DEBUG:\n",
    "    # no baispramie\n",
    "    company_link1 = \"https://proplanta.de/karten/agrarsubventionen_2021-empfaenger22becefcfe9631bdec63c6f251515d00.html\"\n",
    "    # with basis pramie\n",
    "    company_link2 = \"https://www.proplanta.de/karten/agrarsubventionen_2021-empfaengerb23c81b03f98afededf2dce2fbb239ea.html\"\n",
    "    company_link= company_link1\n",
    "    print(company_link)\n",
    "    print(company_link)\n",
    "    html_content = requests.get(company_link).text\n",
    "    soup = BeautifulSoup(html_content, \"lxml\")\n",
    "    print(get_basis_praemie_from_url(company_link))\n",
    "    print(soup)\n",
    "    "
   ]
  },
  {
   "cell_type": "code",
   "execution_count": 37,
   "id": "a31abccf-1c39-4987-87d8-9416c520acd5",
   "metadata": {
    "tags": []
   },
   "outputs": [],
   "source": [
    "def add_basispramie_to_one_company(list_of_company_dicts, DEBUG=False):\n",
    "    '''\n",
    "    INPUT:\n",
    "        [{'total_sum': '12.649.000,18',\n",
    "          'link_total_sum': '',\n",
    "          'company': 'Land Mecklenburg-Vorpommern Ministerium für – 19061 Schwerin, Landeshauptstadt',\n",
    "          'link_company': '/karten/agrarsubventionen_2021-empfaenger22becefcfe9631bdec63c6f251515d00.html',\n",
    "          'location': 'Kreisfreie Stadt Schwerin, Landeshauptstadt',\n",
    "          'link_location': '/karten/kreisfreie_stadt_schwerin,_landeshauptstadt-agrarsubventionen_2021-landkreis_13004.html',\n",
    "          'Lander': 'Mecklenburg-Vorpommern',\n",
    "          'link_lander': '/karten/mecklenburg-vorpommern-agrarsubventionen_2021-bundesland_5a61ca66ef23199eb6afa5e9bb4779f1.html'},\n",
    "  ]\n",
    "  OUTPUT:\n",
    "      {'total_sum': '12.649.000,18',\n",
    "      'link_total_sum': '',\n",
    "      'company': 'Land Mecklenburg-Vorpommern Ministerium für – 19061 Schwerin, Landeshauptstadt',\n",
    "      'link_company': '/karten/agrarsubventionen_2021-empfaenger22becefcfe9631bdec63c6f251515d00.html',\n",
    "      'location': 'Kreisfreie Stadt Schwerin, Landeshauptstadt',\n",
    "      'link_location': '/karten/kreisfreie_stadt_schwerin,_landeshauptstadt-agrarsubventionen_2021-landkreis_13004.html',\n",
    "      'Lander': 'Mecklenburg-Vorpommern',\n",
    "      'link_lander': '/karten/mecklenburg-vorpommern-agrarsubventionen_2021-bundesland_5a61ca66ef23199eb6afa5e9bb4779f1.html'},\n",
    "      'basis_praemie': NEW DATA HERE\n",
    "  \n",
    "  Explanation:\n",
    "  Out of the dict corresponding to one company the url is built up and the data is fetched with requeswt and parsed with soup\n",
    "  \n",
    "    '''\n",
    "    new_list_of_company_dicts = []\n",
    "    for company_dict in list_of_company_dicts:\n",
    "        basis_link = 'https://proplanta.de'\n",
    "        company_link = basis_link + company_dict['link_company']\n",
    "        company_dict['company_url'] = company_link\n",
    "        company_dict['basis_praemie'] = get_basis_praemie_from_url(company_link, DEBUG)\n",
    "        new_list_of_company_dicts.append(company_dict)\n",
    "    return new_list_of_company_dicts"
   ]
  },
  {
   "cell_type": "code",
   "execution_count": 38,
   "id": "47726d9b-91ba-4309-afc0-a88292d844b9",
   "metadata": {
    "tags": []
   },
   "outputs": [],
   "source": [
    "DEBUG=False\n",
    "if DEBUG:\n",
    "    example=\"https://www.proplanta.de/karten/agrarsubventionen_2021-empfaenger22becefcfe9631bdec63c6f251515d00.html\"\n",
    "    example2 = [{'total_sum': '12.649.000,18',\n",
    "          'link_total_sum': '',\n",
    "          'company': 'Land Mecklenburg-Vorpommern Ministerium für – 19061 Schwerin, Landeshauptstadt',\n",
    "          'link_company': '/karten/agrarsubventionen_2021-empfaenger22becefcfe9631bdec63c6f251515d00.html',\n",
    "          'location': 'Kreisfreie Stadt Schwerin, Landeshauptstadt',\n",
    "          'link_location': '/karten/kreisfreie_stadt_schwerin,_landeshauptstadt-agrarsubventionen_2021-landkreis_13004.html',\n",
    "          'Lander': 'Mecklenburg-Vorpommern',\n",
    "          'link_lander': '/karten/mecklenburg-vorpommern-agrarsubventionen_2021-bundesland_5a61ca66ef23199eb6afa5e9bb4779f1.html'},\n",
    "  ]\n",
    "    print(add_basispramie_to_one_company(example2, DEBUG=True))\n",
    "    "
   ]
  },
  {
   "cell_type": "code",
   "execution_count": 42,
   "id": "ae017aa4-241d-42ca-859d-f6c01b3902a6",
   "metadata": {
    "tags": []
   },
   "outputs": [],
   "source": [
    "def add_dict_to_df(file_name_for_output_data,\n",
    "                   dict_to_add,\n",
    "                   i):\n",
    "    \n",
    "    df_to_add=pd.DataFrame(dict_to_add)\n",
    "        \n",
    "    if os.path.exists(file_name_for_output_data):\n",
    "        df= pd.read_csv(file_name_for_output_data)\n",
    "        \n",
    "        # add the new data\n",
    "        out = pd.concat([df_to_add, df])\n",
    "        if DEBUG:\n",
    "            display(df)\n",
    "            display(df_to_add)\n",
    "    else:\n",
    "        out=df_to_add\n",
    "    rows = len(out)\n",
    "    print(f\"total {rows} companies accumulated\")\n",
    "    out.to_csv(file_name_for_output_data, index=False) \n",
    "    \n",
    "def add_dict_to_df2(file_name_for_output_data,\n",
    "                   dict_to_add,\n",
    "                   i):\n",
    "    '''\n",
    "    save time by not using pandas\n",
    "    '''\n",
    "    with open('tmp/'+file_name_for_output_data +'_'+str(i)+'.json',\"w\") as f:\n",
    "        json.dump(dict_to_add,f)"
   ]
  },
  {
   "cell_type": "code",
   "execution_count": null,
   "id": "6c28be68-9ccd-4db4-8434-3126f916a6a2",
   "metadata": {
    "tags": []
   },
   "outputs": [],
   "source": []
  },
  {
   "cell_type": "markdown",
   "id": "5d312203-7de6-4210-a12e-d8c605885af4",
   "metadata": {
    "tags": []
   },
   "source": [
    "# main code"
   ]
  },
  {
   "cell_type": "code",
   "execution_count": 45,
   "id": "12de1c54-0172-4f34-9056-e8d7999409bf",
   "metadata": {
    "tags": []
   },
   "outputs": [],
   "source": [
    "# The following are the only two parameters to modify and then run the next cell\n",
    "# mumber of rows per table in every call to the website\n",
    "def run_process(lines_per_table = 7,\n",
    "                nr_of_tables_to_download_today = 5,\n",
    "                first_time_running_the_process = False,\n",
    "                file_name_for_output_data = \"companies.csv\",\n",
    "                DEBUG=False):\n",
    "    tic = time()\n",
    "    if first_time_running_the_process:\n",
    "        create_urls_table_blank(step=lines_per_table)\n",
    "        if os.path.exists(file_name_for_output_data):\n",
    "            os.remove(file_name_for_output_data)\n",
    "\n",
    "    all_urls_for_all_data_still_to_do = get_remaining_urls(file_name=\"urls_table.csv\")   \n",
    "\n",
    "    # all the urls with the parameters decided at the beginning, how many per page.\n",
    "    if len(all_urls_for_all_data_still_to_do)>nr_of_tables_to_download_today:\n",
    "        all_urls_for_all_data_still_to_do = all_urls_for_all_data_still_to_do[:nr_of_tables_to_download_today]\n",
    "    else:\n",
    "        all_urls_for_all_data_still_to_do = all_urls_for_all_data_still_to_do\n",
    "\n",
    "\n",
    "    for i, url_table in enumerate(all_urls_for_all_data_still_to_do):\n",
    "        # table of companies\n",
    "        data_for_one_table = get_data_of_one_url_table(url_table)\n",
    "        #print(len(data_for_one_table))\n",
    "        #print(data_for_one_table)\n",
    "        data_for_one_table_with_basis_premie = add_basispramie_to_one_company(data_for_one_table)\n",
    "        #print(data_for_one_table_with_basis_premie)\n",
    "        # mark this url as done:\n",
    "        mark_one_url_as_done(url_table,\n",
    "                             col_input='url',\n",
    "                             col_to_change = 'DONE',\n",
    "                             value_for_change = 'YES',\n",
    "                             file_name=\"urls_table.csv\")\n",
    "\n",
    "\n",
    "        add_dict_to_df(file_name_for_output_data,\n",
    "                       data_for_one_table_with_basis_premie,\n",
    "                      )\n",
    "        \n",
    "        print(i, ' of ', len(all_urls_for_all_data_still_to_do), ' >>>',url_table)\n",
    "    toc=time()\n",
    "    nice_time = \"{:.2f}\".format(toc-tic)\n",
    "    print(f\"downloaded {lines_per_table*nr_of_tables_to_download_today} in {nice_time} seconds.\")\n",
    "    "
   ]
  },
  {
   "cell_type": "code",
   "execution_count": 46,
   "id": "f5da50d6-481c-4ac2-a27b-412d7fc9a4e7",
   "metadata": {
    "tags": []
   },
   "outputs": [],
   "source": [
    "def create_excel():\n",
    "    p = Path('tmp')\n",
    "    list_of_dicts = []\n",
    "    for file in list(p.iterdir()):\n",
    "        with open(file,\"r\") as f:\n",
    "            mydict=json.read(f)\n",
    "            list_of_dicts.append(mydict)"
   ]
  },
  {
   "cell_type": "code",
   "execution_count": 47,
   "id": "2053c1dd-4472-4885-a6c2-1ed7658f1415",
   "metadata": {
    "tags": []
   },
   "outputs": [
    {
     "name": "stdout",
     "output_type": "stream",
     "text": [
      "urls_table.csv created with 45268 rows, with every row being a table of 6 companies.\n",
      "urls_table.csv read with 45268 rows with 45268 remaining to be dowloaded.\n"
     ]
    },
    {
     "ename": "TypeError",
     "evalue": "add_dict_to_df() missing 1 required positional argument: 'i'",
     "output_type": "error",
     "traceback": [
      "\u001b[0;31m---------------------------------------------------------------------------\u001b[0m",
      "\u001b[0;31mTypeError\u001b[0m                                 Traceback (most recent call last)",
      "\u001b[0;32m/var/folders/0v/yx25cfb170j5rpflmwh9zkdw0000gn/T/ipykernel_80751/3327730581.py\u001b[0m in \u001b[0;36m<module>\u001b[0;34m\u001b[0m\n\u001b[1;32m      4\u001b[0m \u001b[0mfile_name_for_output_data\u001b[0m \u001b[0;34m=\u001b[0m \u001b[0;34m\"companies\"\u001b[0m\u001b[0;34m\u001b[0m\u001b[0;34m\u001b[0m\u001b[0m\n\u001b[1;32m      5\u001b[0m \u001b[0mDEBUG\u001b[0m \u001b[0;34m=\u001b[0m \u001b[0;32mFalse\u001b[0m \u001b[0;31m#if true prints info per table downloaded.\u001b[0m\u001b[0;34m\u001b[0m\u001b[0;34m\u001b[0m\u001b[0m\n\u001b[0;32m----> 6\u001b[0;31m run_process(lines_per_table ,\n\u001b[0m\u001b[1;32m      7\u001b[0m                 \u001b[0mnr_of_tables_to_download_today\u001b[0m\u001b[0;34m,\u001b[0m\u001b[0;34m\u001b[0m\u001b[0;34m\u001b[0m\u001b[0m\n\u001b[1;32m      8\u001b[0m                 \u001b[0mfirst_time_running_the_process\u001b[0m\u001b[0;34m,\u001b[0m\u001b[0;34m\u001b[0m\u001b[0;34m\u001b[0m\u001b[0m\n",
      "\u001b[0;32m/var/folders/0v/yx25cfb170j5rpflmwh9zkdw0000gn/T/ipykernel_80751/2735509278.py\u001b[0m in \u001b[0;36mrun_process\u001b[0;34m(lines_per_table, nr_of_tables_to_download_today, first_time_running_the_process, file_name_for_output_data, DEBUG)\u001b[0m\n\u001b[1;32m     36\u001b[0m \u001b[0;34m\u001b[0m\u001b[0m\n\u001b[1;32m     37\u001b[0m \u001b[0;34m\u001b[0m\u001b[0m\n\u001b[0;32m---> 38\u001b[0;31m         add_dict_to_df(file_name_for_output_data,\n\u001b[0m\u001b[1;32m     39\u001b[0m                        \u001b[0mdata_for_one_table_with_basis_premie\u001b[0m\u001b[0;34m,\u001b[0m\u001b[0;34m\u001b[0m\u001b[0;34m\u001b[0m\u001b[0m\n\u001b[1;32m     40\u001b[0m                       )\n",
      "\u001b[0;31mTypeError\u001b[0m: add_dict_to_df() missing 1 required positional argument: 'i'"
     ]
    }
   ],
   "source": [
    "lines_per_table = 6 # how many lines per table\n",
    "nr_of_tables_to_download_today = 4 # how many tables to download\n",
    "first_time_running_the_process = True # make it true and all starts from scratch. But the make it False if you continue the next day\n",
    "file_name_for_output_data = \"companies\"\n",
    "DEBUG = False #if true prints info per table downloaded.\n",
    "run_process(lines_per_table ,\n",
    "                nr_of_tables_to_download_today,\n",
    "                first_time_running_the_process,\n",
    "                file_name_for_output_data,\n",
    "                DEBUG)\n",
    "    "
   ]
  },
  {
   "cell_type": "code",
   "execution_count": null,
   "id": "eaeb6603-783b-4624-b567-bebdcc9e7c67",
   "metadata": {},
   "outputs": [],
   "source": [
    "d1={'a':8}\n",
    "d2={'ab':8}\n",
    "f=[d1,d2]\n"
   ]
  }
 ],
 "metadata": {
  "kernelspec": {
   "display_name": "Python 3 (ipykernel)",
   "language": "python",
   "name": "python3"
  },
  "language_info": {
   "codemirror_mode": {
    "name": "ipython",
    "version": 3
   },
   "file_extension": ".py",
   "mimetype": "text/x-python",
   "name": "python",
   "nbconvert_exporter": "python",
   "pygments_lexer": "ipython3",
   "version": "3.9.7"
  }
 },
 "nbformat": 4,
 "nbformat_minor": 5
}
