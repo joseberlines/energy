{
 "cells": [
  {
   "cell_type": "code",
   "execution_count": 1,
   "id": "930296b5-a908-4f30-a1f5-cb8cdba5046f",
   "metadata": {},
   "outputs": [],
   "source": [
    "# importing the libraries\n",
    "from bs4 import BeautifulSoup\n",
    "import requests\n",
    "import pandas as pd\n",
    "import itertools\n",
    "import os\n",
    "import time\n"
   ]
  },
  {
   "cell_type": "code",
   "execution_count": 2,
   "id": "cd4b953e-312d-4e60-a339-20462b86f72f",
   "metadata": {
    "tags": []
   },
   "outputs": [],
   "source": [
    "def create_urls_table_blank(step = 10, overwrite=True,file_name=\"urls_table.csv\"):\n",
    "    '''\n",
    "    Puts together all the urls that would list (by accessing every one of those) all the data of the web site.\n",
    "    step = how many rows has the table displayed per url.\n",
    "    \n",
    "    For instance if you take step = 200 the pages will show 200 companies per page.\n",
    "\n",
    "    '''\n",
    "    \n",
    "    # get the last number added\n",
    "    total = 271605 # according to the web the total amount of entries is this one\n",
    "    total_urls = total//step\n",
    "    parameters = [i*step for i in range(total_urls)] + [total]\n",
    "    all_urls =[]\n",
    "    for i,para in enumerate(parameters):\n",
    "        url = f\"https://www.proplanta.de/Agrarsubventionen-2021-Liste-der-Empfaenger/proplanta_karten.php?ROalAk=271605&LaZ={step}&LsZ={para}&ROalAk=271605&SELECTID=1653383570&SEARCH_SHOWBEGS=1653383570\"\n",
    "        all_urls.append(url)\n",
    "    \n",
    "    df_urls = pd.DataFrame()\n",
    "    \n",
    "    df_urls['url'] = all_urls\n",
    "    df_urls = df_urls[[col for col in df_urls.columns if 'Unn' not in col]]\n",
    "    df_urls['DONE'] = 'NO'\n",
    "    \n",
    "    if overwrite:\n",
    "        #create_urls_table_blank\n",
    "        df_urls.to_csv(file_name)\n",
    "        rows = len(df_urls)\n",
    "        print(f\"{file_name} created with {rows} rows, with every row being a table of {step} companies.\")\n",
    "    else:\n",
    "        raise f\"There is already a file named {file_name}: delete it manually and run this again\"\n",
    "    \n",
    "    return df_urls\n"
   ]
  },
  {
   "cell_type": "code",
   "execution_count": 3,
   "id": "83de7141-d3b8-485e-813b-64d7784f2475",
   "metadata": {
    "tags": []
   },
   "outputs": [],
   "source": [
    "def get_remaining_urls(step=10,file_name=\"urls_table.csv\"):\n",
    "    '''\n",
    "    returns a list with all the urls still to do\n",
    "    '''\n",
    "    if os.path.exists(file_name) == False:\n",
    "        create_urls_table_blank(step)\n",
    "        \n",
    "    df = pd.read_csv(file_name)\n",
    "    rows = len(df)\n",
    "    \n",
    "    mask = df['DONE'] =='NO'\n",
    "    #only gives back the data not mark as DONE YES\n",
    "    result = df.loc[mask,'url'].tolist()\n",
    "    print(f\"{file_name} read with {rows} rows with {len(result)} remaining to be dowloaded.\")\n",
    "    return result\n"
   ]
  },
  {
   "cell_type": "code",
   "execution_count": 4,
   "id": "9b54ba6e-305a-40cc-85e8-fb314d6077df",
   "metadata": {
    "tags": []
   },
   "outputs": [],
   "source": [
    "def mark_one_url_as_done(query_value_for_column, \n",
    "                         col_input='url',\n",
    "                         col_to_change = 'DONE',\n",
    "                         value_for_change = 'YES',\n",
    "                         file_name=\"urls_table.csv\"):\n",
    "    '''\n",
    "    since we dont want to make all the 270000 calls in one go this is a way to mark up bit a bit what was done\n",
    "    '''\n",
    "    df = pd.read_csv(file_name)\n",
    "    if col_input not in df.columns:\n",
    "        raise f\"wooow pass a col name that is present in the dataframe please. {col_input} is not in {df.columns}\"\n",
    "    # read file and modify it\n",
    "    \n",
    "    mask1 = df[col_input] == query_value_for_column\n",
    "    # caveats Try using .loc[row_indexer,col_indexer] = value instead\n",
    "    df.loc[mask1,col_to_change]=value_for_change\n",
    "    df.to_csv(file_name, index=False)\n",
    "    return # nothing is returned because the table is saved again"
   ]
  },
  {
   "cell_type": "code",
   "execution_count": 5,
   "id": "bcd779c6-9e3e-4784-b495-5d02580f5a77",
   "metadata": {
    "tags": []
   },
   "outputs": [],
   "source": [
    "def get_data_of_one_url_table(url, DEBUG=False):\n",
    "    '''\n",
    "    Make a GET request to fetch the raw HTML content of the url\n",
    "    INPUT:\n",
    "        url: like: 'https://www.proplanta.de/Agrarsubventionen-2021-Liste-der-Empfaenger/proplanta_karten.php?ROalAk=271605&LaZ=2&LsZ=2&ROalAk=271605&SELECTID=1653383570&SEARCH_SHOWBEGS=1653383570'\n",
    "    RETURNS:\n",
    "        list of dicts in the form of:\n",
    "        [{'total_sum': '12.649.000,18',\n",
    "          'link_total_sum': '',\n",
    "          'company': 'Land Mecklenburg-Vorpommern Ministerium für – 19061 Schwerin, Landeshauptstadt',\n",
    "          'link_company': '/karten/agrarsubventionen_2021-empfaenger22becefcfe9631bdec63c6f251515d00.html',\n",
    "          'location': 'Kreisfreie Stadt Schwerin, Landeshauptstadt',\n",
    "          'link_location': '/karten/kreisfreie_stadt_schwerin,_landeshauptstadt-agrarsubventionen_2021-landkreis_13004.html',\n",
    "          'Lander': 'Mecklenburg-Vorpommern',\n",
    "          'link_lander': '/karten/mecklenburg-vorpommern-agrarsubventionen_2021-bundesland_5a61ca66ef23199eb6afa5e9bb4779f1.html'},\n",
    "          {...\n",
    "          ]\n",
    "    \n",
    "    This lists of dicts corresponds to what you see when accesing one single page\n",
    "    \n",
    "    \n",
    "    '''\n",
    "    html_content = requests.get(url).text\n",
    "    soup = BeautifulSoup(html_content, \"lxml\")\n",
    "    \n",
    "    table = soup.find(\"table\",{\"class\":\"display dataTable\"})\n",
    "    if DEBUG: print('>>>>>>>>>>>>>>>>>>>>>>',url, table)\n",
    "    \n",
    "    all_data=[]\n",
    "    for i,row in enumerate(table.find_all('tr')):\n",
    "        if row.td is not None:\n",
    "            row_data_per_company = [(td.text,td.a.get('href')) if td.a and td.a.get('href') else (td.text,'') for td in row.find_all('td')]\n",
    "            elements_of_one_row=[]\n",
    "            \n",
    "            for tupple in row_data_per_company:\n",
    "                elements_of_one_row.extend(tupple)\n",
    "            if DEBUG: print(elements_of_one_row)\n",
    "            keys = ['Foerdersumme', 'link_total_sum','Begünstigter','link_company','Landkreis','link_location','BundesLand','link_lander']\n",
    "            d = dict(zip(keys,elements_of_one_row))\n",
    "            \n",
    "            all_data.append(d)\n",
    "    \n",
    "    return all_data"
   ]
  },
  {
   "cell_type": "code",
   "execution_count": 6,
   "id": "9177e9a6-f4c5-461e-b8c9-dd69512562b0",
   "metadata": {
    "tags": []
   },
   "outputs": [],
   "source": [
    "# example:\n",
    "DEBUG=False\n",
    "if DEBUG:\n",
    "    url='https://www.proplanta.de/Agrarsubventionen-2021-Liste-der-Empfaenger/proplanta_karten.php?ROalAk=271605&LaZ=2&LsZ=2&ROalAk=271605&SELECTID=1653383570&SEARCH_SHOWBEGS=1653383570'\n",
    "    print(url)\n",
    "    get_data_of_one_url_table(url)"
   ]
  },
  {
   "cell_type": "code",
   "execution_count": 7,
   "id": "07d26ffe-2098-4b4a-b543-c7e4ee519385",
   "metadata": {
    "tags": []
   },
   "outputs": [],
   "source": [
    "def get_basis_praemie_from_url(company_link,DEBUG=False):\n",
    "    if DEBUG: print(\"in soup:\",company_link)\n",
    "    html_content = requests.get(company_link).text\n",
    "    soup = BeautifulSoup(html_content, \"lxml\")\n",
    "    try:\n",
    "        t3 = soup.find(lambda tag:tag.name==\"h3\" and \"Basisprämie\" in tag.text).find_next_sibling().find_next_sibling(\"p\").find(\"span\").contents\n",
    "    except:\n",
    "        t3 = ''\n",
    "    basis_praemie = t3\n",
    "    if type(basis_praemie)==type([\"unalista\"]):\n",
    "        basis_praemie = basis_praemie[0]\n",
    "    \n",
    "    return basis_praemie"
   ]
  },
  {
   "cell_type": "code",
   "execution_count": 9,
   "id": "9cf94b2f-3f18-424f-9737-52579042884c",
   "metadata": {
    "tags": []
   },
   "outputs": [],
   "source": [
    "DEBUG=False\n",
    "if DEBUG:\n",
    "    # no baispramie\n",
    "    company_link1 = \"https://proplanta.de/karten/agrarsubventionen_2021-empfaenger22becefcfe9631bdec63c6f251515d00.html\"\n",
    "    # with basis pramie\n",
    "    company_link2 = \"https://www.proplanta.de/karten/agrarsubventionen_2021-empfaengerb23c81b03f98afededf2dce2fbb239ea.html\"\n",
    "    company_link= company_link1\n",
    "    print(company_link)\n",
    "    print(company_link)\n",
    "    html_content = requests.get(company_link).text\n",
    "    soup = BeautifulSoup(html_content, \"lxml\")\n",
    "    print(get_basis_praemie_from_url(company_link))\n",
    "    print(soup)\n",
    "    "
   ]
  },
  {
   "cell_type": "code",
   "execution_count": 10,
   "id": "a31abccf-1c39-4987-87d8-9416c520acd5",
   "metadata": {
    "tags": []
   },
   "outputs": [],
   "source": [
    "def add_basispramie_to_one_company(list_of_company_dicts, DEBUG=False):\n",
    "    '''\n",
    "    INPUT:\n",
    "        [{'total_sum': '12.649.000,18',\n",
    "          'link_total_sum': '',\n",
    "          'company': 'Land Mecklenburg-Vorpommern Ministerium für – 19061 Schwerin, Landeshauptstadt',\n",
    "          'link_company': '/karten/agrarsubventionen_2021-empfaenger22becefcfe9631bdec63c6f251515d00.html',\n",
    "          'location': 'Kreisfreie Stadt Schwerin, Landeshauptstadt',\n",
    "          'link_location': '/karten/kreisfreie_stadt_schwerin,_landeshauptstadt-agrarsubventionen_2021-landkreis_13004.html',\n",
    "          'Lander': 'Mecklenburg-Vorpommern',\n",
    "          'link_lander': '/karten/mecklenburg-vorpommern-agrarsubventionen_2021-bundesland_5a61ca66ef23199eb6afa5e9bb4779f1.html'},\n",
    "  ]\n",
    "  OUTPUT:\n",
    "      {'total_sum': '12.649.000,18',\n",
    "      'link_total_sum': '',\n",
    "      'company': 'Land Mecklenburg-Vorpommern Ministerium für – 19061 Schwerin, Landeshauptstadt',\n",
    "      'link_company': '/karten/agrarsubventionen_2021-empfaenger22becefcfe9631bdec63c6f251515d00.html',\n",
    "      'location': 'Kreisfreie Stadt Schwerin, Landeshauptstadt',\n",
    "      'link_location': '/karten/kreisfreie_stadt_schwerin,_landeshauptstadt-agrarsubventionen_2021-landkreis_13004.html',\n",
    "      'Lander': 'Mecklenburg-Vorpommern',\n",
    "      'link_lander': '/karten/mecklenburg-vorpommern-agrarsubventionen_2021-bundesland_5a61ca66ef23199eb6afa5e9bb4779f1.html'},\n",
    "      'basis_praemie': NEW DATA HERE\n",
    "  \n",
    "  Explanation:\n",
    "  Out of the dict corresponding to one company the url is built up and the data is fetched with requeswt and parsed with soup\n",
    "  \n",
    "    '''\n",
    "    new_list_of_company_dicts = []\n",
    "    for company_dict in list_of_company_dicts:\n",
    "        basis_link = 'https://proplanta.de'\n",
    "        company_link = basis_link + company_dict['link_company']\n",
    "        company_dict['company_url'] = company_link\n",
    "        company_dict['basis_praemie'] = get_basis_praemie_from_url(company_link, DEBUG)\n",
    "        new_list_of_company_dicts.append(company_dict)\n",
    "    return new_list_of_company_dicts"
   ]
  },
  {
   "cell_type": "code",
   "execution_count": 11,
   "id": "47726d9b-91ba-4309-afc0-a88292d844b9",
   "metadata": {
    "tags": []
   },
   "outputs": [],
   "source": [
    "DEBUG=False\n",
    "if DEBUG:\n",
    "    example=\"https://www.proplanta.de/karten/agrarsubventionen_2021-empfaenger22becefcfe9631bdec63c6f251515d00.html\"\n",
    "    example2 = [{'total_sum': '12.649.000,18',\n",
    "          'link_total_sum': '',\n",
    "          'company': 'Land Mecklenburg-Vorpommern Ministerium für – 19061 Schwerin, Landeshauptstadt',\n",
    "          'link_company': '/karten/agrarsubventionen_2021-empfaenger22becefcfe9631bdec63c6f251515d00.html',\n",
    "          'location': 'Kreisfreie Stadt Schwerin, Landeshauptstadt',\n",
    "          'link_location': '/karten/kreisfreie_stadt_schwerin,_landeshauptstadt-agrarsubventionen_2021-landkreis_13004.html',\n",
    "          'Lander': 'Mecklenburg-Vorpommern',\n",
    "          'link_lander': '/karten/mecklenburg-vorpommern-agrarsubventionen_2021-bundesland_5a61ca66ef23199eb6afa5e9bb4779f1.html'},\n",
    "  ]\n",
    "    print(add_basispramie_to_one_company(example2, DEBUG=True))\n",
    "    "
   ]
  },
  {
   "cell_type": "code",
   "execution_count": 12,
   "id": "70098ad4-df55-4c2f-b89c-fdfb0c5651e1",
   "metadata": {
    "tags": []
   },
   "outputs": [],
   "source": [
    "def add_dict_to_df(dict_to_add,\n",
    "                   file_name = '',\n",
    "                   DEBUG=False):\n",
    "    df_to_add=pd.DataFrame(dict_to_add)\n",
    "    \n",
    "    if file_name == '':\n",
    "        file_name = 'result' + time.strftime(\"-%d-%m-%Y\") + \".csv\"\n",
    "        \n",
    "    if os.path.exists(file_name):\n",
    "        df= pd.read_csv(file_name)\n",
    "        \n",
    "        # add the new data\n",
    "        out = pd.concat([df_to_add, df])\n",
    "        if DEBUG:\n",
    "            display(df)\n",
    "            display(df_to_add)\n",
    "    else:\n",
    "        out=df_to_add\n",
    "    rows = len(out)\n",
    "    print(f\"total {rows} companies\")\n",
    "    out.to_csv(file_name, index=False) "
   ]
  },
  {
   "cell_type": "markdown",
   "id": "5d312203-7de6-4210-a12e-d8c605885af4",
   "metadata": {
    "tags": []
   },
   "source": [
    "# main code"
   ]
  },
  {
   "cell_type": "code",
   "execution_count": 13,
   "id": "eb7c2fe1-3f87-431d-901a-280ed09adc98",
   "metadata": {
    "tags": []
   },
   "outputs": [
    {
     "name": "stdout",
     "output_type": "stream",
     "text": [
      "urls_table.csv read with 27161 rows with 27156 remaining to be dowloaded.\n",
      "0  of  5  >>> https://www.proplanta.de/Agrarsubventionen-2021-Liste-der-Empfaenger/proplanta_karten.php?ROalAk=271605&LaZ=10&LsZ=50&ROalAk=271605&SELECTID=1653383570&SEARCH_SHOWBEGS=1653383570\n",
      "total 10 companies\n",
      "1  of  5  >>> https://www.proplanta.de/Agrarsubventionen-2021-Liste-der-Empfaenger/proplanta_karten.php?ROalAk=271605&LaZ=10&LsZ=60&ROalAk=271605&SELECTID=1653383570&SEARCH_SHOWBEGS=1653383570\n",
      "total 20 companies\n",
      "2  of  5  >>> https://www.proplanta.de/Agrarsubventionen-2021-Liste-der-Empfaenger/proplanta_karten.php?ROalAk=271605&LaZ=10&LsZ=70&ROalAk=271605&SELECTID=1653383570&SEARCH_SHOWBEGS=1653383570\n",
      "total 30 companies\n",
      "3  of  5  >>> https://www.proplanta.de/Agrarsubventionen-2021-Liste-der-Empfaenger/proplanta_karten.php?ROalAk=271605&LaZ=10&LsZ=80&ROalAk=271605&SELECTID=1653383570&SEARCH_SHOWBEGS=1653383570\n",
      "total 40 companies\n",
      "4  of  5  >>> https://www.proplanta.de/Agrarsubventionen-2021-Liste-der-Empfaenger/proplanta_karten.php?ROalAk=271605&LaZ=10&LsZ=90&ROalAk=271605&SELECTID=1653383570&SEARCH_SHOWBEGS=1653383570\n",
      "total 50 companies\n"
     ]
    }
   ],
   "source": [
    "# The following are the only two parameters to modify and then run the next cell\n",
    "step = 7 # mumber of rows per table in every call to the website\n",
    "nr_of_tables_to_download_today = 5\n",
    "\n",
    "first_time_running_the_process = False\n",
    "if first_time_running_the_process:\n",
    "    create_urls_table_blank(step=step)\n",
    "    \n",
    "all_urls_for_all_data_still_to_do = get_remaining_urls(file_name=\"urls_table.csv\")   \n",
    "\n",
    "# all the urls with the parameters decided at the beginning, how many per page.\n",
    "if len(all_urls_for_all_data_still_to_do)>nr_of_tables_to_download_today:\n",
    "    all_urls_for_all_data_still_to_do = all_urls_for_all_data_still_to_do[:nr_of_tables_to_download_today]\n",
    "else:\n",
    "    all_urls_for_all_data_still_to_do = all_urls_for_all_data_still_to_do\n",
    "\n",
    "# Update [0:2] by number of URLs you want to process \n",
    "for i, url_table in enumerate(all_urls_for_all_data_still_to_do):\n",
    "    print(i, ' of ', len(all_urls_for_all_data_still_to_do), ' >>>',url_table)\n",
    "    # table of companies\n",
    "    data_for_one_table = get_data_of_one_url_table(url_table)\n",
    "    #print(len(data_for_one_table))\n",
    "    #print(data_for_one_table)\n",
    "    data_for_one_table_with_basis_premie = add_basispramie_to_one_company(data_for_one_table)\n",
    "    #print(data_for_one_table_with_basis_premie)\n",
    "    # mark this url as done:\n",
    "    mark_one_url_as_done(url_table,\n",
    "                         col_input='url',\n",
    "                         col_to_change = 'DONE',\n",
    "                         value_for_change = 'YES',\n",
    "                         file_name=\"urls_table.csv\")\n",
    "                         \n",
    "    \n",
    "    add_dict_to_df(data_for_one_table_with_basis_premie)\n"
   ]
  },
  {
   "cell_type": "markdown",
   "id": "a8d377f2-0599-4412-a77f-4180a35c31ab",
   "metadata": {
    "tags": []
   },
   "source": [
    "# from here all try/error code"
   ]
  },
  {
   "cell_type": "code",
   "execution_count": null,
   "id": "08df6aa3-936a-4a42-9965-2202ae02d3d9",
   "metadata": {
    "tags": []
   },
   "outputs": [],
   "source": [
    "\n",
    "url=\"https://www.proplanta.de/Agrarsubventionen-2021-Liste-der-Empfaenger/proplanta_karten.php?ROalAk=271605&LaZ=200&LsZ=600&ROalAk=271605&SELECTID=1653383570&SEARCH_SHOWBEGS=1653383570\"\n",
    "\n",
    "# Make a GET request to fetch the raw HTML content\n",
    "html_content = requests.get(url).text\n",
    "example_with_praemie=\"\"\"https://proplanta.de/karten/agrarsubventionen_2021-empfaenger12afd5006d05dc993dce273bf905c760.html\"\"\"\n",
    "print(get_basis_praemie_from_url(example_with_praemie))"
   ]
  },
  {
   "cell_type": "code",
   "execution_count": null,
   "id": "5346d96b-7921-4abd-8f01-1904fbb20955",
   "metadata": {
    "tags": []
   },
   "outputs": [],
   "source": [
    "def add_company_data(nr=1, DEBUG=False):\n",
    "    '''\n",
    "    adds single comkpany data one row at a time\n",
    "    \n",
    "    '''\n",
    "    df_urls=pd.read_csv(\"urls_table.csv\")\n",
    "    df_companies = pd.DataFrame()\n",
    "    for i,url in enumerate(df_urls['url'].tolist()[0:nr]): \n",
    "        html_content = requests.get(url).text\n",
    "        soup = BeautifulSoup(html_content, \"lxml\")\n",
    "    \n",
    "        table = soup.find(\"table\",{\"class\":\"display dataTable\"})\n",
    "        if DEBUG: print('>>>>>>>>>>>>>>>>>>>>>>',i,url)\n",
    "        if DEBUG: print(table)\n",
    "        for row in table.find_all('tr'):\n",
    "            # Find all data for each column\n",
    "            columns = row.find_all('td')\n",
    "            \n",
    "add_company_data(DEBUG=True)"
   ]
  },
  {
   "cell_type": "code",
   "execution_count": null,
   "id": "dd9fecc9-007d-4477-9a28-60cd370a2ff9",
   "metadata": {
    "tags": []
   },
   "outputs": [],
   "source": [
    "def get_data_of_one_url_table(url, DEBUG=False):\n",
    "    '''\n",
    "    Make a GET request to fetch the raw HTML content of the url\n",
    "    INPUT:\n",
    "        url: like: 'https://www.proplanta.de/Agrarsubventionen-2021-Liste-der-Empfaenger/proplanta_karten.php?ROalAk=271605&LaZ=2&LsZ=2&ROalAk=271605&SELECTID=1653383570&SEARCH_SHOWBEGS=1653383570'\n",
    "    RETURNS:\n",
    "        list of dicts in the form of:\n",
    "        [{'total_sum': '12.649.000,18',\n",
    "          'link_total_sum': '',\n",
    "          'company': 'Land Mecklenburg-Vorpommern Ministerium für – 19061 Schwerin, Landeshauptstadt',\n",
    "          'link_company': '/karten/agrarsubventionen_2021-empfaenger22becefcfe9631bdec63c6f251515d00.html',\n",
    "          'location': 'Kreisfreie Stadt Schwerin, Landeshauptstadt',\n",
    "          'link_location': '/karten/kreisfreie_stadt_schwerin,_landeshauptstadt-agrarsubventionen_2021-landkreis_13004.html',\n",
    "          'Lander': 'Mecklenburg-Vorpommern',\n",
    "          'link_lander': '/karten/mecklenburg-vorpommern-agrarsubventionen_2021-bundesland_5a61ca66ef23199eb6afa5e9bb4779f1.html'},\n",
    "          {...\n",
    "          ]\n",
    "    \n",
    "    This lists of dicts corresponds to what you see when accesing one single page\n",
    "    \n",
    "    \n",
    "    '''\n",
    "    html_content = requests.get(url).text\n",
    "    soup = BeautifulSoup(html_content, \"lxml\")\n",
    "    \n",
    "    table = soup.find(\"table\",{\"class\":\"display dataTable\"})\n",
    "    if DEBUG: print('>>>>>>>>>>>>>>>>>>>>>>',i,url)\n",
    "    \n",
    "    for row in table.find_all('tr'):\n",
    "        columns = row.select('td')\n",
    "        if DEBUG: print(columns)\n",
    "        row_data_per_company = [(td.text,td.a.get('href')) if td.a and td.a.get('href') else (td.text,'') for td in columns]\n",
    "        #flatten the list of tuples\n",
    "        elements_of_one_row = []\n",
    "        for tupple in row_data_per_company:\n",
    "            elements_of_one_row.extend(tupple)\n",
    "        # create a dict for easier understanding\n",
    "        if elements_of_one_row != []:\n",
    "            keys = ['Foerdersumme', 'link_total_sum','Begünstigter','link_company','Landkreis','link_location','BundesLand','link_lander']\n",
    "            d = dict(zip(keys,elements_of_one_row))\n",
    "            all_data.append(d)\n",
    "            \n",
    "    return all_data"
   ]
  },
  {
   "cell_type": "code",
   "execution_count": null,
   "id": "b80f4add-7d2a-4267-8595-4406d052adca",
   "metadata": {
    "tags": []
   },
   "outputs": [],
   "source": []
  },
  {
   "cell_type": "code",
   "execution_count": null,
   "id": "92fc2b6c-be56-44a8-bc0f-2058d4d134a7",
   "metadata": {
    "tags": []
   },
   "outputs": [],
   "source": []
  },
  {
   "cell_type": "code",
   "execution_count": null,
   "id": "74a4ba29-1055-47df-abe1-400180804252",
   "metadata": {},
   "outputs": [],
   "source": [
    "    \n",
    "\n",
    "def add_basispramie_to_one_company(company_dict):\n",
    "    '''\n",
    "    INPUT:\n",
    "        {'total_sum': '12.649.000,18',\n",
    "          'link_total_sum': '',\n",
    "          'company': 'Land Mecklenburg-Vorpommern Ministerium für – 19061 Schwerin, Landeshauptstadt',\n",
    "          'link_company': '/karten/agrarsubventionen_2021-empfaenger22becefcfe9631bdec63c6f251515d00.html',\n",
    "          'location': 'Kreisfreie Stadt Schwerin, Landeshauptstadt',\n",
    "          'link_location': '/karten/kreisfreie_stadt_schwerin,_landeshauptstadt-agrarsubventionen_2021-landkreis_13004.html',\n",
    "          'Lander': 'Mecklenburg-Vorpommern',\n",
    "          'link_lander': '/karten/mecklenburg-vorpommern-agrarsubventionen_2021-bundesland_5a61ca66ef23199eb6afa5e9bb4779f1.html'},\n",
    "  \n",
    "  OUTPUT:\n",
    "      {'total_sum': '12.649.000,18',\n",
    "      'link_total_sum': '',\n",
    "      'company': 'Land Mecklenburg-Vorpommern Ministerium für – 19061 Schwerin, Landeshauptstadt',\n",
    "      'link_company': '/karten/agrarsubventionen_2021-empfaenger22becefcfe9631bdec63c6f251515d00.html',\n",
    "      'location': 'Kreisfreie Stadt Schwerin, Landeshauptstadt',\n",
    "      'link_location': '/karten/kreisfreie_stadt_schwerin,_landeshauptstadt-agrarsubventionen_2021-landkreis_13004.html',\n",
    "      'Lander': 'Mecklenburg-Vorpommern',\n",
    "      'link_lander': '/karten/mecklenburg-vorpommern-agrarsubventionen_2021-bundesland_5a61ca66ef23199eb6afa5e9bb4779f1.html'},\n",
    "      'basis_praemie': ....\n",
    "  \n",
    "  Explanation:\n",
    "  Out of the dict corresponding to one company the url is built up and the data is fetched with requeswt and parsed with soup\n",
    "  \n",
    "    '''\n",
    "    \n",
    "    basis_link = 'https://proplanta.de'\n",
    "    company_link = basis_link + company_dict['link_company']\n",
    "    company_dict['company_url'] = company_link\n",
    "    \n",
    "    basis_praemie = get_basis_praemie_from_url(company_link)\n",
    "    \n",
    "    company_dict['basis_praemie'] = basis_praemie\n",
    "    \n",
    "    return company_dict\n",
    "    \n",
    "    "
   ]
  },
  {
   "cell_type": "code",
   "execution_count": null,
   "id": "b05a34a2-61f1-42de-9f0e-eb1dc6c49e1c",
   "metadata": {},
   "outputs": [],
   "source": [
    "    "
   ]
  },
  {
   "cell_type": "code",
   "execution_count": null,
   "id": "f4ea04e0-417b-40a9-8fd4-ef8444f2cc4b",
   "metadata": {},
   "outputs": [],
   "source": [
    "data_one_page = get_data_of_one_url_table(all_urls[0])"
   ]
  },
  {
   "cell_type": "code",
   "execution_count": null,
   "id": "9e9185e4-6b06-4492-b3ff-715c81153a13",
   "metadata": {},
   "outputs": [],
   "source": [
    "example_dict = {'total_sum': '12.649.000,18',\n",
    "  'link_total_sum': '',\n",
    "  'company': 'Land Mecklenburg-Vorpommern Ministerium für – 19061 Schwerin, Landeshauptstadt',\n",
    "  'link_company': '/karten/agrarsubventionen_2021-empfaenger22becefcfe9631bdec63c6f251515d00.html',\n",
    "  'location': 'Kreisfreie Stadt Schwerin, Landeshauptstadt',\n",
    "  'link_location': '/karten/kreisfreie_stadt_schwerin,_landeshauptstadt-agrarsubventionen_2021-landkreis_13004.html',\n",
    "  'Lander': 'Mecklenburg-Vorpommern',\n",
    "  'link_lander': '/karten/mecklenburg-vorpommern-agrarsubventionen_2021-bundesland_5a61ca66ef23199eb6afa5e9bb4779f1.html'}\n",
    "\n",
    "adding_basis = add_basispramie_to_one_company(example_dict)\n",
    "adding_basis"
   ]
  },
  {
   "cell_type": "code",
   "execution_count": null,
   "id": "0d97e0d9-d240-4e76-b95e-e022819855f1",
   "metadata": {},
   "outputs": [],
   "source": [
    "# This is a small example of two urls that list only 2 companies per table each one.\n",
    "L = 2\n",
    "N=2\n",
    "all_urls = [f'https://www.proplanta.de/Agrarsubventionen-2021-Liste-der-Empfaenger/proplanta_karten.php?ROalAk=271605&LaZ={L}&LsZ={N}&ROalAk=271605&SELECTID=1653383570&SEARCH_SHOWBEGS=1653383570',\n",
    "           f'https://www.proplanta.de/Agrarsubventionen-2021-Liste-der-Empfaenger/proplanta_karten.php?ROalAk=271605&LaZ={L}&LsZ={N}&ROalAk=271605&SELECTID=1653383570&SEARCH_SHOWBEGS=1653383570']\n",
    "all_urls\n",
    "\n"
   ]
  },
  {
   "cell_type": "code",
   "execution_count": null,
   "id": "14800fb9-c1f2-4dfb-8a0b-e9c1edb5cfd0",
   "metadata": {},
   "outputs": [],
   "source": [
    "len(elements_of_one_row)"
   ]
  },
  {
   "cell_type": "code",
   "execution_count": null,
   "id": "caba7ece-3a18-469f-8c9d-803e179911cb",
   "metadata": {},
   "outputs": [],
   "source": [
    "myhtml='''<table class=\"theone\">\n",
    "<td class=\"even\" ><strong>12.649.000,18</strong></td>\n",
    " <td class=\"even\" ><a href=\"/whatever/1.html\" target=\"_blank\">Brusels</a></td>\n",
    " <td class=\"even\" ><a href=\"/whatever/2.html\" target=\"_blank\">Belgium</a></td>\n",
    " <td class=\"even\" >blue</td></table>'''\n",
    "soup = BeautifulSoup(myhtml, \"lxml\")\n",
    "    \n",
    "table = soup.find(\"table\",{\"class\":\"theone\"})\n",
    "table"
   ]
  },
  {
   "cell_type": "code",
   "execution_count": null,
   "id": "c44a7cbf-65d5-4b92-95f9-0181b1a9ea98",
   "metadata": {},
   "outputs": [],
   "source": [
    "url=\"https://www.proplanta.de/karten/agrarsubventionen_2021-empfaengerdf84d31e9962677007bce3207ac3bee9.html\"\n",
    "url_no_basis = \"https://proplanta.de/karten/agrarsubventionen_2021-empfaenger22becefcfe9631bdec63c6f251515d00.html\"\n",
    "print(url)\n",
    "html_content = requests.get(url_no_basis).text"
   ]
  },
  {
   "cell_type": "markdown",
   "id": "bb36bb7c-c00f-4a88-a547-57fecd93381a",
   "metadata": {},
   "source": [
    "# EXMAPLES beautiful soup"
   ]
  },
  {
   "cell_type": "code",
   "execution_count": 66,
   "id": "d312a7f9-907a-46d2-b267-2e8aef73db80",
   "metadata": {},
   "outputs": [],
   "source": [
    "#with basis pramie\n",
    "html_content1=\"\"\"<h3 style=\"cear: both;\"><abbr title=\"Europäischer Garantiefonds für Landwirtschaft\">EGFL</abbr>: Basisprämie</h3>\n",
    "<div class=\"massnahmenbeschreibung\">\n",
    "<p>Infolge der Reform der Gemeinsamen Agrarpolitik (GAP) wurde die bis einschließlich 2014 geltende Betriebsprämie durch ein System aus Direktzahlungen bestehend aus Basisprämie, Umverteilungsprämie, Greeningprämie und ggf. Junglandwirteprämie ersetzt.Die Basisprämie entspricht in ihrem Charakter im Grundsatz der bisherigen Betriebsprämie. Sie basiert ebenfalls auf einem System von Zahlungsansprüchen, die den Betriebsinhabern grundsätzlich im Jahr 2015 auf Antrag entsprechend dem Umfang der von ihnen angemeldeten beihilfefähigen Flächen neu zugewiesen wurden. Der Betriebsinhaber meldet in jedem Antragsjahr seine beihilfefähigen Flächen und Zahlungsansprüche an, wobei die Aktivierung eines Zahlungsanspruchs mit einem Hektar beihilfefähiger Fläche zur Auszahlung der Basisprämie führt.Alle Zahlungsansprüche in einer Region (in der Regel = Bundesland) hatten zu Beginn der derzeitigen Förderperiode in 2015 denselben Wert. Die je Region unterschiedlich hohen Werte der Zahlungsansprüche wurden zwischen 2017 und 2019 schrittweise abgebaut, so dass sie seit 2019 in ganz Deutschland einen einheitlichen Wert haben.Die Basisprämie dient der Einkommenssicherung und Risikoabsicherung der landwirtschaftlichen Betriebe sowie auch als finanzieller Ausgleich für die weit höheren Umweltschutz-, Tierschutz- und Verbraucherschutzstandards in der EU im Vergleich zu den Produktionsauflagen von Mitbewerbern auf dem Weltmarkt. Sie ist wie alle anderen Direktzahlungen unmittelbar an die Einhaltung zahlreicher weiterer Auflagen gebunden (sog. \"Cross-Compliance-Instrument\"). Neben 13 schon bestehenden EU-Verordnungen und Richtlinien des Natur-, Umwelt-, Tier- und Verbraucherschutzes, deren Einhaltung laufend und streng überprüft wird, sind Vorgaben zur Erosionsvermeidung als zusätzlich zu erbringende Leistungen ebenso vorgeschrieben worden wie Maßnahmen zur Erhaltung der Bodenfruchtbarkeit und zum Gewässerschutz. Ebenso ist die Beseitigung von Landschaftselementen wie Hecken, Baumreihen und Feldgehölzen verboten. Durch Mindestanforderungen an die Bodenbedeckung bei aus der Produktion genommenen Flächen und dem Erhalt von ökologisch wertvollen Strukturelementen als Rückzugsgebiete für wildlebende Tierarten in intensiv genutzten Agrarlandschaften leisten die Direktzahlungen so einen Beitrag zum Erhalt landeskultureller Werte und zum Klimaschutz.</p></div>\n",
    "<p style=\"margin-bottom: 0; text-align: right;\">\n",
    "<span class=\"betrag\">322.347,04 €</span>\n",
    "</p>\n",
    "\"\"\"\n",
    "# without basispremie\n",
    "html_content2 =\"\"\"\n",
    "<h3 style=\"cear: both;\">\n",
    "<abbr title=\"European Union\">EU</abbr>Investment</h3>\n",
    "<div class=\"conditions\">\n",
    "<p>bla bla bla\n",
    "</p>\n",
    "</div>\n",
    "<p style=\"margin-bottom: 0;\">\n",
    "<span class=\"amount\">66000 €</span>\n",
    "</p>\"\"\""
   ]
  },
  {
   "cell_type": "code",
   "execution_count": 73,
   "id": "70015b53-2608-4b3e-b94e-b47d83646a43",
   "metadata": {},
   "outputs": [],
   "source": [
    "html_content=html_content2\n",
    "soup = BeautifulSoup(html_content, \"lxml\")"
   ]
  },
  {
   "cell_type": "code",
   "execution_count": 74,
   "id": "6ce8a15c-d0b8-4be4-9990-56a7d4b0cced",
   "metadata": {},
   "outputs": [
    {
     "ename": "AttributeError",
     "evalue": "'NoneType' object has no attribute 'find_next'",
     "output_type": "error",
     "traceback": [
      "\u001b[0;31m---------------------------------------------------------------------------\u001b[0m",
      "\u001b[0;31mAttributeError\u001b[0m                            Traceback (most recent call last)",
      "\u001b[0;32m/var/folders/0v/yx25cfb170j5rpflmwh9zkdw0000gn/T/ipykernel_66632/2086773943.py\u001b[0m in \u001b[0;36m<module>\u001b[0;34m\u001b[0m\n\u001b[0;32m----> 1\u001b[0;31m \u001b[0mt3\u001b[0m \u001b[0;34m=\u001b[0m \u001b[0;34m(\u001b[0m\u001b[0msoup\u001b[0m\u001b[0;34m.\u001b[0m\u001b[0mfind\u001b[0m\u001b[0;34m(\u001b[0m\u001b[0;32mlambda\u001b[0m \u001b[0mtag\u001b[0m\u001b[0;34m:\u001b[0m \u001b[0mtag\u001b[0m\u001b[0;34m.\u001b[0m\u001b[0mname\u001b[0m \u001b[0;34m==\u001b[0m \u001b[0;34m\"h3\"\u001b[0m \u001b[0;32mand\u001b[0m \u001b[0;34m\"Basisprämie\"\u001b[0m \u001b[0;32min\u001b[0m \u001b[0mtag\u001b[0m\u001b[0;34m.\u001b[0m\u001b[0mtext\u001b[0m\u001b[0;34m)\u001b[0m\u001b[0;34m.\u001b[0m\u001b[0mfind_next\u001b[0m\u001b[0;34m(\u001b[0m\u001b[0;34m\"span\"\u001b[0m\u001b[0;34m,\u001b[0m \u001b[0mclass_\u001b[0m\u001b[0;34m=\u001b[0m\u001b[0;34m\"amount\"\u001b[0m\u001b[0;34m)\u001b[0m\u001b[0;34m.\u001b[0m\u001b[0mtext\u001b[0m\u001b[0;34m)\u001b[0m\u001b[0;34m\u001b[0m\u001b[0;34m\u001b[0m\u001b[0m\n\u001b[0m\u001b[1;32m      2\u001b[0m \u001b[0mt3\u001b[0m\u001b[0;34m\u001b[0m\u001b[0;34m\u001b[0m\u001b[0m\n",
      "\u001b[0;31mAttributeError\u001b[0m: 'NoneType' object has no attribute 'find_next'"
     ]
    }
   ],
   "source": [
    "t3 = (soup.find(lambda tag: tag.name == \"h3\" and \"Basisprämie\" in tag.text).find_next(\"span\", class_=\"amount\").text)\n",
    "t3"
   ]
  },
  {
   "cell_type": "code",
   "execution_count": 77,
   "id": "372c458e-b770-4781-81c5-ab337edbf947",
   "metadata": {},
   "outputs": [
    {
     "data": {
      "text/plain": [
       "'66000 €'"
      ]
     },
     "execution_count": 77,
     "metadata": {},
     "output_type": "execute_result"
    }
   ],
   "source": [
    "t3 = (soup.find(lambda tag: tag.name == \"h3\" and \"Investment\" in tag.text).find_next(\"span\", class_=\"amount\").text)\n",
    "t3"
   ]
  },
  {
   "cell_type": "code",
   "execution_count": 57,
   "id": "5e62dde9-2bf5-49c8-a5e9-65fa50ef3527",
   "metadata": {},
   "outputs": [],
   "source": [
    "t4=soup.find(lambda tag:tag.name==\"h3\" and 'Investment' in tag.text)"
   ]
  },
  {
   "cell_type": "code",
   "execution_count": 58,
   "id": "b85a8173-cc5e-450b-a1ca-11b7aa5afd1a",
   "metadata": {},
   "outputs": [
    {
     "name": "stdout",
     "output_type": "stream",
     "text": [
      "\n",
      "EUInvestment\n",
      "[<class 'bs4.element.NavigableString'>, <class 'bs4.element.Tag'>, <class 'bs4.element.NavigableString'>]\n"
     ]
    }
   ],
   "source": [
    "print(t4.text)\n",
    "print([type(r) for r in t4.contents])"
   ]
  },
  {
   "cell_type": "code",
   "execution_count": null,
   "id": "7679b79c-270b-40a8-aa4f-fa3044ed5b9f",
   "metadata": {},
   "outputs": [],
   "source": [
    "#print(soup)<div id=\"agrar_subventions_empfaenger\">\n",
    "def my_span(tag):\n",
    "    return tag.name=='span' and \"betrag\" in tag\n",
    "\n",
    "#tags = soup.find_all(my_span)\n",
    "result2 =soup.find(\"span\", {\"class\":\"betrag\"})\n",
    "dir(result2)"
   ]
  },
  {
   "cell_type": "code",
   "execution_count": null,
   "id": "b5cc110f-eb03-40df-a94b-7029f34aeb21",
   "metadata": {},
   "outputs": [],
   "source": [
    "t =soup.find(lambda tag:tag.name==\"h3\" and \": Basisprämie\")\n",
    "t2 =t.find_next_sibling().find_next_sibling(\"p\").find(\"span\").contents\n",
    "t2"
   ]
  },
  {
   "cell_type": "code",
   "execution_count": null,
   "id": "bf29d4bc-0e3b-4c50-acc6-c7a033b1e6f0",
   "metadata": {},
   "outputs": [],
   "source": []
  },
  {
   "cell_type": "code",
   "execution_count": null,
   "id": "b01033b1-ab16-48cb-90af-190ad8879af4",
   "metadata": {},
   "outputs": [],
   "source": [
    "for element in t.find_next_sibling():\n",
    "    print(element.contents)"
   ]
  },
  {
   "cell_type": "code",
   "execution_count": null,
   "id": "03e4828f-56b3-440c-b743-88e464198834",
   "metadata": {},
   "outputs": [],
   "source": [
    "parameters = [i*200 for i in range(5)] # here substitute 20 by 1359\n",
    "\n",
    "all_urls = [] \n",
    "for j,para in enumerate(parameters):\n",
    "    # building the url\n",
    "    url = f\"https://www.proplanta.de/Agrarsubventionen-2021-Liste-der-Empfaenger/proplanta_karten.php?ROalAk=271605&LaZ=200&LsZ={para}&ROalAk=271605&SELECTID=1653383570&SEARCH_SHOWBEGS=1653383570\"\n",
    "    all_urls.append(url)\n",
    "\n",
    "all_tables_of_all_urls = []\n",
    "for url in all_urls:\n",
    "    all_tables_of_url = pd.read_html(url)\n",
    "    good_tables_of_single_url = []\n",
    "    for i,table in enumerate(all_tables):\n",
    "        # decide if it is a good table\n",
    "        cn=table.columns.tolist()\n",
    "        if 'Begünstigter' in cn and 'Landkreis' in cn and 'Bundesland' in cn:\n",
    "            good_tables_of_single_url.append(table)\n",
    "    df_of_single_url_page = pd.concat(good_tables_of_single_url)\n",
    "    all_tables_of_all_urls.append(df_of_single_url_page)"
   ]
  },
  {
   "cell_type": "code",
   "execution_count": null,
   "id": "3fd33d25-a8dc-43c8-8f10-80c20592ef75",
   "metadata": {},
   "outputs": [],
   "source": [
    "df_all = pd.concat( all_tables_of_all_urls)"
   ]
  },
  {
   "cell_type": "code",
   "execution_count": null,
   "id": "af60cce2-d648-4e10-bc3a-93412001e0d1",
   "metadata": {},
   "outputs": [],
   "source": [
    "df_all\n"
   ]
  },
  {
   "cell_type": "code",
   "execution_count": null,
   "id": "20b05bbb-a206-4b54-93f2-5e6921811249",
   "metadata": {},
   "outputs": [],
   "source": [
    "\n",
    "today = time.strftime(\"%Y-%m-%d\")\n"
   ]
  },
  {
   "cell_type": "code",
   "execution_count": null,
   "id": "45b92b2b-df68-4bd9-8126-5236f414dbfc",
   "metadata": {},
   "outputs": [],
   "source": []
  }
 ],
 "metadata": {
  "kernelspec": {
   "display_name": "Python 3 (ipykernel)",
   "language": "python",
   "name": "python3"
  },
  "language_info": {
   "codemirror_mode": {
    "name": "ipython",
    "version": 3
   },
   "file_extension": ".py",
   "mimetype": "text/x-python",
   "name": "python",
   "nbconvert_exporter": "python",
   "pygments_lexer": "ipython3",
   "version": "3.9.7"
  }
 },
 "nbformat": 4,
 "nbformat_minor": 5
}
