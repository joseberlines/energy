{
 "cells": [
  {
   "cell_type": "code",
   "execution_count": null,
   "id": "930296b5-a908-4f30-a1f5-cb8cdba5046f",
   "metadata": {},
   "outputs": [],
   "source": [
    "# importing the libraries\n",
    "from bs4 import BeautifulSoup\n",
    "import requests\n",
    "import pandas as pd\n",
    "import itertools\n",
    "import os\n",
    "\n",
    "url=\"https://www.proplanta.de/Agrarsubventionen-2021-Liste-der-Empfaenger/proplanta_karten.php?ROalAk=271605&LaZ=200&LsZ=600&ROalAk=271605&SELECTID=1653383570&SEARCH_SHOWBEGS=1653383570\"\n",
    "\n",
    "# Make a GET request to fetch the raw HTML content\n",
    "html_content = requests.get(url).text"
   ]
  },
  {
   "cell_type": "code",
   "execution_count": null,
   "id": "cd4b953e-312d-4e60-a339-20462b86f72f",
   "metadata": {
    "tags": []
   },
   "outputs": [],
   "source": [
    "def create_urls_table_blank(step = 10, overwrite=True,file_name=\"urls_table.csv\"):\n",
    "    '''\n",
    "    Puts together all the urls that would list (by accessing every one of those) all the data of the web site.\n",
    "    step = how many rows has the table displayed per url.\n",
    "    \n",
    "    For instance if you take step = 200 the pages will show 200 companies per page.\n",
    "\n",
    "    '''\n",
    "    \n",
    "    # get the last number added\n",
    "    total = 271605 # according to the web the total amount of entries is this one\n",
    "    total_urls = total//step\n",
    "    parameters = [i*step for i in range(total_urls)] + [total]\n",
    "    all_urls =[]\n",
    "    for i,para in enumerate(parameters):\n",
    "        url = f\"https://www.proplanta.de/Agrarsubventionen-2021-Liste-der-Empfaenger/proplanta_karten.php?ROalAk=271605&LaZ={step}&LsZ={para}&ROalAk=271605&SELECTID=1653383570&SEARCH_SHOWBEGS=1653383570\"\n",
    "        all_urls.append(url)\n",
    "    \n",
    "    df_urls = pd.DataFrame()\n",
    "    \n",
    "    df_urls['url'] = all_urls\n",
    "    df_urls = df_urls[[col for col in df_urls.columns if 'Unn' not in col]]\n",
    "    df_urls['DONE'] = 'NO'\n",
    "    \n",
    "    if overwrite:\n",
    "        #create_urls_table_blank\n",
    "        df_urls.to_csv(file_name)\n",
    "    else:\n",
    "        raise f\"There is already a file named {file_name}: delete it manually and run this again\"\n",
    "    return df_urls\n",
    "df_urls=create_urls_table_blank()"
   ]
  },
  {
   "cell_type": "code",
   "execution_count": null,
   "id": "83de7141-d3b8-485e-813b-64d7784f2475",
   "metadata": {
    "tags": []
   },
   "outputs": [],
   "source": [
    "def get_remaining_urls(file_name=\"urls_table.csv\"):\n",
    "    '''\n",
    "    returns a list with all the urls still to do\n",
    "    '''\n",
    "    df = pd.read_csv(file_name)\n",
    "    \n",
    "    mask = df['DONE'] =='NO'\n",
    "    #only gives back the data not mark as DONE YES\n",
    "    result = df.loc[mask,'url'].tolist()\n",
    "    return result\n"
   ]
  },
  {
   "cell_type": "code",
   "execution_count": null,
   "id": "6c42a4b6-7e57-4c34-8494-63d8f4294b32",
   "metadata": {
    "tags": []
   },
   "outputs": [],
   "source": [
    "display(df_urls)"
   ]
  },
  {
   "cell_type": "code",
   "execution_count": null,
   "id": "cf56b5ad-6d6b-4225-985e-f02133c6d382",
   "metadata": {
    "tags": []
   },
   "outputs": [],
   "source": [
    "# exmple of one url\n",
    "one_url = df_urls.iloc[[0]]['url'].tolist()[0]\n",
    "one_url"
   ]
  },
  {
   "cell_type": "code",
   "execution_count": null,
   "id": "9b54ba6e-305a-40cc-85e8-fb314d6077df",
   "metadata": {
    "tags": []
   },
   "outputs": [],
   "source": [
    "def mark_one_url_as_done(query_value_for_column, \n",
    "                         col_input='url',\n",
    "                         col_to_change = 'DONE',\n",
    "                         value_for_change = 'YES',\n",
    "                         file_name=\"urls_table.csv\"):\n",
    "    '''\n",
    "    since we dont want to make all the 270000 calls in one go this is a way to mark up bit a bit what was done\n",
    "    '''\n",
    "    df = pd.read_csv(file_name)\n",
    "    if col_input not in df.columns:\n",
    "        raise f\"wooow pass a col name that is present in the dataframe please. {col_input} is not in {df.columns}\"\n",
    "    # read file and modify it\n",
    "    \n",
    "    mask1 = df[col_input] == query_value_for_column\n",
    "    # caveats Try using .loc[row_indexer,col_indexer] = value instead\n",
    "    df.loc[mask1,col_to_change]=value_for_change\n",
    "    df.to_csv(file_name, index=False)\n",
    "    return # nothing is returned because the table is saved again"
   ]
  },
  {
   "cell_type": "code",
   "execution_count": null,
   "id": "bcd779c6-9e3e-4784-b495-5d02580f5a77",
   "metadata": {
    "tags": []
   },
   "outputs": [],
   "source": [
    "def get_data_of_one_url_table(url, DEBUG=False):\n",
    "    '''\n",
    "    Make a GET request to fetch the raw HTML content of the url\n",
    "    INPUT:\n",
    "        url: like: 'https://www.proplanta.de/Agrarsubventionen-2021-Liste-der-Empfaenger/proplanta_karten.php?ROalAk=271605&LaZ=2&LsZ=2&ROalAk=271605&SELECTID=1653383570&SEARCH_SHOWBEGS=1653383570'\n",
    "    RETURNS:\n",
    "        list of dicts in the form of:\n",
    "        [{'total_sum': '12.649.000,18',\n",
    "          'link_total_sum': '',\n",
    "          'company': 'Land Mecklenburg-Vorpommern Ministerium für – 19061 Schwerin, Landeshauptstadt',\n",
    "          'link_company': '/karten/agrarsubventionen_2021-empfaenger22becefcfe9631bdec63c6f251515d00.html',\n",
    "          'location': 'Kreisfreie Stadt Schwerin, Landeshauptstadt',\n",
    "          'link_location': '/karten/kreisfreie_stadt_schwerin,_landeshauptstadt-agrarsubventionen_2021-landkreis_13004.html',\n",
    "          'Lander': 'Mecklenburg-Vorpommern',\n",
    "          'link_lander': '/karten/mecklenburg-vorpommern-agrarsubventionen_2021-bundesland_5a61ca66ef23199eb6afa5e9bb4779f1.html'},\n",
    "          {...\n",
    "          ]\n",
    "    \n",
    "    This lists of dicts corresponds to what you see when accesing one single page\n",
    "    \n",
    "    \n",
    "    '''\n",
    "    html_content = requests.get(url).text\n",
    "    soup = BeautifulSoup(html_content, \"lxml\")\n",
    "    \n",
    "    table = soup.find(\"table\",{\"class\":\"display dataTable\"})\n",
    "    if DEBUG: print('>>>>>>>>>>>>>>>>>>>>>>',url, table)\n",
    "    \n",
    "    all_data=[]\n",
    "    for i,row in enumerate(table.find_all('tr')):\n",
    "        if row.td is not None:\n",
    "            row_data_per_company = [(td.text,td.a.get('href')) if td.a and td.a.get('href') else (td.text,'') for td in row.find_all('td')]\n",
    "            elements_of_one_row=[]\n",
    "            \n",
    "            for tupple in row_data_per_company:\n",
    "                elements_of_one_row.extend(tupple)\n",
    "            if DEBUG: print(elements_of_one_row)\n",
    "            keys = ['Foerdersumme', 'link_total_sum','Begünstigter','link_company','Landkreis','link_location','BundesLand','link_lander']\n",
    "            d = dict(zip(keys,elements_of_one_row))\n",
    "            \n",
    "            all_data.append(d)\n",
    "    \n",
    "    return all_data"
   ]
  },
  {
   "cell_type": "code",
   "execution_count": null,
   "id": "9177e9a6-f4c5-461e-b8c9-dd69512562b0",
   "metadata": {
    "tags": []
   },
   "outputs": [],
   "source": [
    "# example:\n",
    "DEBUG=False\n",
    "if DEBUG:\n",
    "    url='https://www.proplanta.de/Agrarsubventionen-2021-Liste-der-Empfaenger/proplanta_karten.php?ROalAk=271605&LaZ=2&LsZ=2&ROalAk=271605&SELECTID=1653383570&SEARCH_SHOWBEGS=1653383570'\n",
    "    print(url)\n",
    "    get_data_of_one_url_table(url)"
   ]
  },
  {
   "cell_type": "code",
   "execution_count": null,
   "id": "7f7ebe01-bb00-4019-99a7-a47eee7e5d42",
   "metadata": {
    "tags": []
   },
   "outputs": [],
   "source": [
    "def get_basis_praemie_from_url(company_link):\n",
    "    html_content = requests.get(company_link).text\n",
    "    soup = BeautifulSoup(html_content, \"lxml\")\n",
    "    try:\n",
    "        t3 = soup.find(lambda tag:tag.name==\"h3\" and \": Basisprämie\").find_next_sibling().find_next_sibling(\"p\").find(\"span\").contents\n",
    "    except:\n",
    "        t3 = ''\n",
    "    basis_praemie = t3\n",
    "    if type(basis_praemie)==type([\"unalista\"]):\n",
    "        basis_praemie = basis_praemie[0]\n",
    "    \n",
    "    return basis_praemie"
   ]
  },
  {
   "cell_type": "code",
   "execution_count": null,
   "id": "a31abccf-1c39-4987-87d8-9416c520acd5",
   "metadata": {
    "tags": []
   },
   "outputs": [],
   "source": [
    "def add_basispramie_to_one_company(list_of_company_dicts):\n",
    "    '''\n",
    "    INPUT:\n",
    "        {'total_sum': '12.649.000,18',\n",
    "          'link_total_sum': '',\n",
    "          'company': 'Land Mecklenburg-Vorpommern Ministerium für – 19061 Schwerin, Landeshauptstadt',\n",
    "          'link_company': '/karten/agrarsubventionen_2021-empfaenger22becefcfe9631bdec63c6f251515d00.html',\n",
    "          'location': 'Kreisfreie Stadt Schwerin, Landeshauptstadt',\n",
    "          'link_location': '/karten/kreisfreie_stadt_schwerin,_landeshauptstadt-agrarsubventionen_2021-landkreis_13004.html',\n",
    "          'Lander': 'Mecklenburg-Vorpommern',\n",
    "          'link_lander': '/karten/mecklenburg-vorpommern-agrarsubventionen_2021-bundesland_5a61ca66ef23199eb6afa5e9bb4779f1.html'},\n",
    "  \n",
    "  OUTPUT:\n",
    "      {'total_sum': '12.649.000,18',\n",
    "      'link_total_sum': '',\n",
    "      'company': 'Land Mecklenburg-Vorpommern Ministerium für – 19061 Schwerin, Landeshauptstadt',\n",
    "      'link_company': '/karten/agrarsubventionen_2021-empfaenger22becefcfe9631bdec63c6f251515d00.html',\n",
    "      'location': 'Kreisfreie Stadt Schwerin, Landeshauptstadt',\n",
    "      'link_location': '/karten/kreisfreie_stadt_schwerin,_landeshauptstadt-agrarsubventionen_2021-landkreis_13004.html',\n",
    "      'Lander': 'Mecklenburg-Vorpommern',\n",
    "      'link_lander': '/karten/mecklenburg-vorpommern-agrarsubventionen_2021-bundesland_5a61ca66ef23199eb6afa5e9bb4779f1.html'},\n",
    "      'basis_praemie': ....\n",
    "  \n",
    "  Explanation:\n",
    "  Out of the dict corresponding to one company the url is built up and the data is fetched with requeswt and parsed with soup\n",
    "  \n",
    "    '''\n",
    "    new_list_of_company_dicts = []\n",
    "    for company_dict in list_of_company_dicts:\n",
    "        basis_link = 'https://proplanta.de'\n",
    "        company_link = basis_link + company_dict['link_company']\n",
    "        company_dict['company_url'] = company_link\n",
    "        company_dict['basis_praemie'] = get_basis_praemie_from_url(company_link)\n",
    "        new_list_of_company_dicts.append(company_dict)\n",
    "    return new_list_of_company_dicts"
   ]
  },
  {
   "cell_type": "code",
   "execution_count": null,
   "id": "5579ec7d-1f66-4e91-a708-f82a81ebd6b2",
   "metadata": {
    "tags": []
   },
   "outputs": [],
   "source": [
    "def add_dict_to_df(dict_to_add,\n",
    "                   file_name = 'final_result.csv',\n",
    "                  DEBUG=False):\n",
    "    df_to_add=pd.DataFrame(dict_to_add)\n",
    "    if os.path.exists(file_name):\n",
    "        df= pd.read_csv(file_name)\n",
    "        \n",
    "    # add the new data\n",
    "        out = pd.concat([df_to_add, df])\n",
    "        if DEBUG:\n",
    "            display(df)\n",
    "            display(df_to_add)\n",
    "    else:\n",
    "        out=df_to_add\n",
    "    out.to_csv(file_name, index=False) "
   ]
  },
  {
   "cell_type": "markdown",
   "id": "5d312203-7de6-4210-a12e-d8c605885af4",
   "metadata": {
    "tags": []
   },
   "source": [
    "# main code"
   ]
  },
  {
   "cell_type": "code",
   "execution_count": null,
   "id": "eb7c2fe1-3f87-431d-901a-280ed09adc98",
   "metadata": {
    "tags": []
   },
   "outputs": [],
   "source": [
    "\n",
    "# all the urls with the parameters decided at the beginning, how many per page.\n",
    "all_urls_for_all_data_still_to_do = get_remaining_urls()[40:41]\n",
    "\n",
    "# Update [0:2] by number of URLs you want to process \n",
    "for url_table in all_urls_for_all_data_still_to_do:\n",
    "    print('>>>',url_table)\n",
    "    # table of companies\n",
    "    data_for_one_table = get_data_of_one_url_table(url_table)\n",
    "    #print(len(data_for_one_table))\n",
    "    # print(data_for_one_table)\n",
    "    data_for_one_table_with_basis_premie = add_basispramie_to_one_company(data_for_one_table)\n",
    "    #print(data_for_one_table_with_basis_premie)\n",
    "    # mark this url as done:\n",
    "    mark_one_url_as_done(url_table,\n",
    "                         col_input='url',\n",
    "                         col_to_change = 'DONE',\n",
    "                         value_for_change = 'YES',\n",
    "                         file_name=\"urls_table.csv\")\n",
    "                         \n",
    "    \n",
    "    add_dict_to_df(data_for_one_table_with_basis_premie)\n"
   ]
  },
  {
   "cell_type": "markdown",
   "id": "a8d377f2-0599-4412-a77f-4180a35c31ab",
   "metadata": {
    "tags": []
   },
   "source": [
    "# from here all try/error code"
   ]
  },
  {
   "cell_type": "code",
   "execution_count": null,
   "id": "08df6aa3-936a-4a42-9965-2202ae02d3d9",
   "metadata": {
    "tags": []
   },
   "outputs": [],
   "source": [
    "example_with_praemie=\"\"\"https://proplanta.de/karten/agrarsubventionen_2021-empfaenger12afd5006d05dc993dce273bf905c760.html\"\"\"\n",
    "print(get_basis_praemie_from_url(example_with_praemie))"
   ]
  },
  {
   "cell_type": "code",
   "execution_count": null,
   "id": "5346d96b-7921-4abd-8f01-1904fbb20955",
   "metadata": {
    "tags": []
   },
   "outputs": [],
   "source": [
    "def add_company_data(nr=1, DEBUG=False):\n",
    "    '''\n",
    "    adds single comkpany data one row at a time\n",
    "    \n",
    "    '''\n",
    "    df_urls=pd.read_csv(\"urls_table.csv\")\n",
    "    df_companies = pd.DataFrame()\n",
    "    for i,url in enumerate(df_urls['url'].tolist()[0:nr]): \n",
    "        html_content = requests.get(url).text\n",
    "        soup = BeautifulSoup(html_content, \"lxml\")\n",
    "    \n",
    "        table = soup.find(\"table\",{\"class\":\"display dataTable\"})\n",
    "        if DEBUG: print('>>>>>>>>>>>>>>>>>>>>>>',i,url)\n",
    "        if DEBUG: print(table)\n",
    "        for row in table.find_all('tr'):\n",
    "            # Find all data for each column\n",
    "            columns = row.find_all('td')\n",
    "            \n",
    "add_company_data(DEBUG=True)"
   ]
  },
  {
   "cell_type": "code",
   "execution_count": null,
   "id": "dd9fecc9-007d-4477-9a28-60cd370a2ff9",
   "metadata": {
    "tags": []
   },
   "outputs": [],
   "source": [
    "def get_data_of_one_url_table(url, DEBUG=False):\n",
    "    '''\n",
    "    Make a GET request to fetch the raw HTML content of the url\n",
    "    INPUT:\n",
    "        url: like: 'https://www.proplanta.de/Agrarsubventionen-2021-Liste-der-Empfaenger/proplanta_karten.php?ROalAk=271605&LaZ=2&LsZ=2&ROalAk=271605&SELECTID=1653383570&SEARCH_SHOWBEGS=1653383570'\n",
    "    RETURNS:\n",
    "        list of dicts in the form of:\n",
    "        [{'total_sum': '12.649.000,18',\n",
    "          'link_total_sum': '',\n",
    "          'company': 'Land Mecklenburg-Vorpommern Ministerium für – 19061 Schwerin, Landeshauptstadt',\n",
    "          'link_company': '/karten/agrarsubventionen_2021-empfaenger22becefcfe9631bdec63c6f251515d00.html',\n",
    "          'location': 'Kreisfreie Stadt Schwerin, Landeshauptstadt',\n",
    "          'link_location': '/karten/kreisfreie_stadt_schwerin,_landeshauptstadt-agrarsubventionen_2021-landkreis_13004.html',\n",
    "          'Lander': 'Mecklenburg-Vorpommern',\n",
    "          'link_lander': '/karten/mecklenburg-vorpommern-agrarsubventionen_2021-bundesland_5a61ca66ef23199eb6afa5e9bb4779f1.html'},\n",
    "          {...\n",
    "          ]\n",
    "    \n",
    "    This lists of dicts corresponds to what you see when accesing one single page\n",
    "    \n",
    "    \n",
    "    '''\n",
    "    html_content = requests.get(url).text\n",
    "    soup = BeautifulSoup(html_content, \"lxml\")\n",
    "    \n",
    "    table = soup.find(\"table\",{\"class\":\"display dataTable\"})\n",
    "    if DEBUG: print('>>>>>>>>>>>>>>>>>>>>>>',i,url)\n",
    "    \n",
    "    for row in table.find_all('tr'):\n",
    "        columns = row.select('td')\n",
    "        if DEBUG: print(columns)\n",
    "        row_data_per_company = [(td.text,td.a.get('href')) if td.a and td.a.get('href') else (td.text,'') for td in columns]\n",
    "        #flatten the list of tuples\n",
    "        elements_of_one_row = []\n",
    "        for tupple in row_data_per_company:\n",
    "            elements_of_one_row.extend(tupple)\n",
    "        # create a dict for easier understanding\n",
    "        if elements_of_one_row != []:\n",
    "            keys = ['Foerdersumme', 'link_total_sum','Begünstigter','link_company','Landkreis','link_location','BundesLand','link_lander']\n",
    "            d = dict(zip(keys,elements_of_one_row))\n",
    "            all_data.append(d)\n",
    "            \n",
    "    return all_data"
   ]
  },
  {
   "cell_type": "code",
   "execution_count": null,
   "id": "b80f4add-7d2a-4267-8595-4406d052adca",
   "metadata": {
    "tags": []
   },
   "outputs": [],
   "source": []
  },
  {
   "cell_type": "code",
   "execution_count": null,
   "id": "92fc2b6c-be56-44a8-bc0f-2058d4d134a7",
   "metadata": {
    "tags": []
   },
   "outputs": [],
   "source": []
  },
  {
   "cell_type": "code",
   "execution_count": null,
   "id": "74a4ba29-1055-47df-abe1-400180804252",
   "metadata": {},
   "outputs": [],
   "source": [
    "    \n",
    "\n",
    "def add_basispramie_to_one_company(company_dict):\n",
    "    '''\n",
    "    INPUT:\n",
    "        {'total_sum': '12.649.000,18',\n",
    "          'link_total_sum': '',\n",
    "          'company': 'Land Mecklenburg-Vorpommern Ministerium für – 19061 Schwerin, Landeshauptstadt',\n",
    "          'link_company': '/karten/agrarsubventionen_2021-empfaenger22becefcfe9631bdec63c6f251515d00.html',\n",
    "          'location': 'Kreisfreie Stadt Schwerin, Landeshauptstadt',\n",
    "          'link_location': '/karten/kreisfreie_stadt_schwerin,_landeshauptstadt-agrarsubventionen_2021-landkreis_13004.html',\n",
    "          'Lander': 'Mecklenburg-Vorpommern',\n",
    "          'link_lander': '/karten/mecklenburg-vorpommern-agrarsubventionen_2021-bundesland_5a61ca66ef23199eb6afa5e9bb4779f1.html'},\n",
    "  \n",
    "  OUTPUT:\n",
    "      {'total_sum': '12.649.000,18',\n",
    "      'link_total_sum': '',\n",
    "      'company': 'Land Mecklenburg-Vorpommern Ministerium für – 19061 Schwerin, Landeshauptstadt',\n",
    "      'link_company': '/karten/agrarsubventionen_2021-empfaenger22becefcfe9631bdec63c6f251515d00.html',\n",
    "      'location': 'Kreisfreie Stadt Schwerin, Landeshauptstadt',\n",
    "      'link_location': '/karten/kreisfreie_stadt_schwerin,_landeshauptstadt-agrarsubventionen_2021-landkreis_13004.html',\n",
    "      'Lander': 'Mecklenburg-Vorpommern',\n",
    "      'link_lander': '/karten/mecklenburg-vorpommern-agrarsubventionen_2021-bundesland_5a61ca66ef23199eb6afa5e9bb4779f1.html'},\n",
    "      'basis_praemie': ....\n",
    "  \n",
    "  Explanation:\n",
    "  Out of the dict corresponding to one company the url is built up and the data is fetched with requeswt and parsed with soup\n",
    "  \n",
    "    '''\n",
    "    \n",
    "    basis_link = 'https://proplanta.de'\n",
    "    company_link = basis_link + company_dict['link_company']\n",
    "    company_dict['company_url'] = company_link\n",
    "    \n",
    "    basis_praemie = get_basis_praemie_from_url(company_link)\n",
    "    \n",
    "    company_dict['basis_praemie'] = basis_praemie\n",
    "    \n",
    "    return company_dict\n",
    "    \n",
    "    "
   ]
  },
  {
   "cell_type": "code",
   "execution_count": null,
   "id": "b05a34a2-61f1-42de-9f0e-eb1dc6c49e1c",
   "metadata": {},
   "outputs": [],
   "source": [
    "    "
   ]
  },
  {
   "cell_type": "code",
   "execution_count": null,
   "id": "f4ea04e0-417b-40a9-8fd4-ef8444f2cc4b",
   "metadata": {},
   "outputs": [],
   "source": [
    "data_one_page = get_data_of_one_url_table(all_urls[0])"
   ]
  },
  {
   "cell_type": "code",
   "execution_count": null,
   "id": "9e9185e4-6b06-4492-b3ff-715c81153a13",
   "metadata": {},
   "outputs": [],
   "source": [
    "example_dict = {'total_sum': '12.649.000,18',\n",
    "  'link_total_sum': '',\n",
    "  'company': 'Land Mecklenburg-Vorpommern Ministerium für – 19061 Schwerin, Landeshauptstadt',\n",
    "  'link_company': '/karten/agrarsubventionen_2021-empfaenger22becefcfe9631bdec63c6f251515d00.html',\n",
    "  'location': 'Kreisfreie Stadt Schwerin, Landeshauptstadt',\n",
    "  'link_location': '/karten/kreisfreie_stadt_schwerin,_landeshauptstadt-agrarsubventionen_2021-landkreis_13004.html',\n",
    "  'Lander': 'Mecklenburg-Vorpommern',\n",
    "  'link_lander': '/karten/mecklenburg-vorpommern-agrarsubventionen_2021-bundesland_5a61ca66ef23199eb6afa5e9bb4779f1.html'}\n",
    "\n",
    "adding_basis = add_basispramie_to_one_company(example_dict)\n",
    "adding_basis"
   ]
  },
  {
   "cell_type": "code",
   "execution_count": null,
   "id": "0d97e0d9-d240-4e76-b95e-e022819855f1",
   "metadata": {},
   "outputs": [],
   "source": [
    "# This is a small example of two urls that list only 2 companies per table each one.\n",
    "L = 2\n",
    "N=2\n",
    "all_urls = [f'https://www.proplanta.de/Agrarsubventionen-2021-Liste-der-Empfaenger/proplanta_karten.php?ROalAk=271605&LaZ={L}&LsZ={N}&ROalAk=271605&SELECTID=1653383570&SEARCH_SHOWBEGS=1653383570',\n",
    "           f'https://www.proplanta.de/Agrarsubventionen-2021-Liste-der-Empfaenger/proplanta_karten.php?ROalAk=271605&LaZ={L}&LsZ={N}&ROalAk=271605&SELECTID=1653383570&SEARCH_SHOWBEGS=1653383570']\n",
    "all_urls\n",
    "\n"
   ]
  },
  {
   "cell_type": "code",
   "execution_count": null,
   "id": "14800fb9-c1f2-4dfb-8a0b-e9c1edb5cfd0",
   "metadata": {},
   "outputs": [],
   "source": [
    "len(elements_of_one_row)"
   ]
  },
  {
   "cell_type": "code",
   "execution_count": null,
   "id": "caba7ece-3a18-469f-8c9d-803e179911cb",
   "metadata": {},
   "outputs": [],
   "source": [
    "myhtml='''<table class=\"theone\">\n",
    "<td class=\"even\" ><strong>12.649.000,18</strong></td>\n",
    " <td class=\"even\" ><a href=\"/whatever/1.html\" target=\"_blank\">Brusels</a></td>\n",
    " <td class=\"even\" ><a href=\"/whatever/2.html\" target=\"_blank\">Belgium</a></td>\n",
    " <td class=\"even\" >blue</td></table>'''\n",
    "soup = BeautifulSoup(myhtml, \"lxml\")\n",
    "    \n",
    "table = soup.find(\"table\",{\"class\":\"theone\"})\n",
    "table"
   ]
  },
  {
   "cell_type": "code",
   "execution_count": null,
   "id": "f9ab364a-9bac-4102-a92a-2203ab82ade7",
   "metadata": {},
   "outputs": [],
   "source": [
    "url=\"https://www.proplanta.de/karten/agrarsubventionen_2021-empfaengerdf84d31e9962677007bce3207ac3bee9.html\"\n",
    "url_no_basis = \"https://proplanta.de/karten/agrarsubventionen_2021-empfaenger22becefcfe9631bdec63c6f251515d00.html\"\n",
    "print(url)\n",
    "html_content = requests.get(url_no_basis).text\n",
    "soup = BeautifulSoup(html_content, \"lxml\")\n",
    "t3 = soup.find(lambda tag:tag.name==\"h3\" and \": Basisprämie\").find_next_sibling().find_next_sibling(\"p\").find(\"span\").contents\n",
    "t3"
   ]
  },
  {
   "cell_type": "code",
   "execution_count": null,
   "id": "b85a8173-cc5e-450b-a1ca-11b7aa5afd1a",
   "metadata": {},
   "outputs": [],
   "source": []
  },
  {
   "cell_type": "code",
   "execution_count": null,
   "id": "7679b79c-270b-40a8-aa4f-fa3044ed5b9f",
   "metadata": {},
   "outputs": [],
   "source": [
    "#print(soup)<div id=\"agrar_subventions_empfaenger\">\n",
    "def my_span(tag):\n",
    "    return tag.name=='span' and \"betrag\" in tag\n",
    "\n",
    "#tags = soup.find_all(my_span)\n",
    "result2 =soup.find(\"span\", {\"class\":\"betrag\"})\n",
    "dir(result2)"
   ]
  },
  {
   "cell_type": "code",
   "execution_count": null,
   "id": "b5cc110f-eb03-40df-a94b-7029f34aeb21",
   "metadata": {},
   "outputs": [],
   "source": [
    "t =soup.find(lambda tag:tag.name==\"h3\" and \": Basisprämie\")\n",
    "t2 =t.find_next_sibling().find_next_sibling(\"p\").find(\"span\").contents\n",
    "t2"
   ]
  },
  {
   "cell_type": "code",
   "execution_count": null,
   "id": "bf29d4bc-0e3b-4c50-acc6-c7a033b1e6f0",
   "metadata": {},
   "outputs": [],
   "source": []
  },
  {
   "cell_type": "code",
   "execution_count": null,
   "id": "b01033b1-ab16-48cb-90af-190ad8879af4",
   "metadata": {},
   "outputs": [],
   "source": [
    "for element in t.find_next_sibling():\n",
    "    print(element.contents)"
   ]
  },
  {
   "cell_type": "code",
   "execution_count": null,
   "id": "03e4828f-56b3-440c-b743-88e464198834",
   "metadata": {},
   "outputs": [],
   "source": [
    "parameters = [i*200 for i in range(5)] # here substitute 20 by 1359\n",
    "\n",
    "all_urls = [] \n",
    "for j,para in enumerate(parameters):\n",
    "    # building the url\n",
    "    url = f\"https://www.proplanta.de/Agrarsubventionen-2021-Liste-der-Empfaenger/proplanta_karten.php?ROalAk=271605&LaZ=200&LsZ={para}&ROalAk=271605&SELECTID=1653383570&SEARCH_SHOWBEGS=1653383570\"\n",
    "    all_urls.append(url)\n",
    "\n",
    "all_tables_of_all_urls = []\n",
    "for url in all_urls:\n",
    "    all_tables_of_url = pd.read_html(url)\n",
    "    good_tables_of_single_url = []\n",
    "    for i,table in enumerate(all_tables):\n",
    "        # decide if it is a good table\n",
    "        cn=table.columns.tolist()\n",
    "        if 'Begünstigter' in cn and 'Landkreis' in cn and 'Bundesland' in cn:\n",
    "            good_tables_of_single_url.append(table)\n",
    "    df_of_single_url_page = pd.concat(good_tables_of_single_url)\n",
    "    all_tables_of_all_urls.append(df_of_single_url_page)"
   ]
  },
  {
   "cell_type": "code",
   "execution_count": null,
   "id": "3fd33d25-a8dc-43c8-8f10-80c20592ef75",
   "metadata": {},
   "outputs": [],
   "source": [
    "df_all = pd.concat( all_tables_of_all_urls)"
   ]
  },
  {
   "cell_type": "code",
   "execution_count": null,
   "id": "af60cce2-d648-4e10-bc3a-93412001e0d1",
   "metadata": {},
   "outputs": [],
   "source": [
    "df_all\n"
   ]
  },
  {
   "cell_type": "code",
   "execution_count": null,
   "id": "20b05bbb-a206-4b54-93f2-5e6921811249",
   "metadata": {},
   "outputs": [],
   "source": []
  }
 ],
 "metadata": {
  "kernelspec": {
   "display_name": "Python 3 (ipykernel)",
   "language": "python",
   "name": "python3"
  },
  "language_info": {
   "codemirror_mode": {
    "name": "ipython",
    "version": 3
   },
   "file_extension": ".py",
   "mimetype": "text/x-python",
   "name": "python",
   "nbconvert_exporter": "python",
   "pygments_lexer": "ipython3",
   "version": "3.9.7"
  }
 },
 "nbformat": 4,
 "nbformat_minor": 5
}
