{
 "cells": [
  {
   "cell_type": "code",
   "execution_count": null,
   "id": "19801e2f-905b-4ed2-a0b7-cbf625037af3",
   "metadata": {},
   "outputs": [],
   "source": [
    "# importing the libraries\n",
    "from bs4 import BeautifulSoup\n",
    "import requests\n",
    "import pandas as pd\n",
    "import itertools\n",
    "import os\n",
    "import time"
   ]
  },
  {
   "cell_type": "code",
   "execution_count": null,
   "id": "ef02892f-935e-489f-9a5a-ac6d7c0374f9",
   "metadata": {
    "tags": []
   },
   "outputs": [],
   "source": [
    "\n",
    "url=\"https://www.proplanta.de/Agrarsubventionen-2021-Liste-der-Empfaenger/proplanta_karten.php?ROalAk=271605&LaZ=200&LsZ=600&ROalAk=271605&SELECTID=1653383570&SEARCH_SHOWBEGS=1653383570\"\n",
    "\n",
    "# Make a GET request to fetch the raw HTML content\n",
    "html_content = requests.get(url).text\n",
    "example_with_praemie=\"\"\"https://proplanta.de/karten/agrarsubventionen_2021-empfaenger12afd5006d05dc993dce273bf905c760.html\"\"\"\n",
    "print(get_basis_praemie_from_url(example_with_praemie))"
   ]
  },
  {
   "cell_type": "code",
   "execution_count": null,
   "id": "20cea62d-fe2c-47ec-895b-50137729157a",
   "metadata": {
    "tags": []
   },
   "outputs": [],
   "source": [
    "def add_company_data(nr=1, DEBUG=False):\n",
    "    '''\n",
    "    adds single comkpany data one row at a time\n",
    "    \n",
    "    '''\n",
    "    df_urls=pd.read_csv(\"urls_table.csv\")\n",
    "    df_companies = pd.DataFrame()\n",
    "    for i,url in enumerate(df_urls['url'].tolist()[0:nr]): \n",
    "        html_content = requests.get(url).text\n",
    "        soup = BeautifulSoup(html_content, \"lxml\")\n",
    "    \n",
    "        table = soup.find(\"table\",{\"class\":\"display dataTable\"})\n",
    "        if DEBUG: print('>>>>>>>>>>>>>>>>>>>>>>',i,url)\n",
    "        if DEBUG: print(table)\n",
    "        for row in table.find_all('tr'):\n",
    "            # Find all data for each column\n",
    "            columns = row.find_all('td')\n",
    "            \n",
    "add_company_data(DEBUG=True)"
   ]
  },
  {
   "cell_type": "code",
   "execution_count": null,
   "id": "c03343a7-a28e-47d8-8355-e901fcee7dfe",
   "metadata": {
    "tags": []
   },
   "outputs": [],
   "source": [
    "def get_data_of_one_url_table(url, DEBUG=False):\n",
    "    '''\n",
    "    Make a GET request to fetch the raw HTML content of the url\n",
    "    INPUT:\n",
    "        url: like: 'https://www.proplanta.de/Agrarsubventionen-2021-Liste-der-Empfaenger/proplanta_karten.php?ROalAk=271605&LaZ=2&LsZ=2&ROalAk=271605&SELECTID=1653383570&SEARCH_SHOWBEGS=1653383570'\n",
    "    RETURNS:\n",
    "        list of dicts in the form of:\n",
    "        [{'total_sum': '12.649.000,18',\n",
    "          'link_total_sum': '',\n",
    "          'company': 'Land Mecklenburg-Vorpommern Ministerium für – 19061 Schwerin, Landeshauptstadt',\n",
    "          'link_company': '/karten/agrarsubventionen_2021-empfaenger22becefcfe9631bdec63c6f251515d00.html',\n",
    "          'location': 'Kreisfreie Stadt Schwerin, Landeshauptstadt',\n",
    "          'link_location': '/karten/kreisfreie_stadt_schwerin,_landeshauptstadt-agrarsubventionen_2021-landkreis_13004.html',\n",
    "          'Lander': 'Mecklenburg-Vorpommern',\n",
    "          'link_lander': '/karten/mecklenburg-vorpommern-agrarsubventionen_2021-bundesland_5a61ca66ef23199eb6afa5e9bb4779f1.html'},\n",
    "          {...\n",
    "          ]\n",
    "    \n",
    "    This lists of dicts corresponds to what you see when accesing one single page\n",
    "    \n",
    "    \n",
    "    '''\n",
    "    html_content = requests.get(url).text\n",
    "    soup = BeautifulSoup(html_content, \"lxml\")\n",
    "    \n",
    "    table = soup.find(\"table\",{\"class\":\"display dataTable\"})\n",
    "    if DEBUG: print('>>>>>>>>>>>>>>>>>>>>>>',i,url)\n",
    "    \n",
    "    for row in table.find_all('tr'):\n",
    "        columns = row.select('td')\n",
    "        if DEBUG: print(columns)\n",
    "        row_data_per_company = [(td.text,td.a.get('href')) if td.a and td.a.get('href') else (td.text,'') for td in columns]\n",
    "        #flatten the list of tuples\n",
    "        elements_of_one_row = []\n",
    "        for tupple in row_data_per_company:\n",
    "            elements_of_one_row.extend(tupple)\n",
    "        # create a dict for easier understanding\n",
    "        if elements_of_one_row != []:\n",
    "            keys = ['Foerdersumme', 'link_total_sum','Begünstigter','link_company','Landkreis','link_location','BundesLand','link_lander']\n",
    "            d = dict(zip(keys,elements_of_one_row))\n",
    "            all_data.append(d)\n",
    "            \n",
    "    return all_data"
   ]
  },
  {
   "cell_type": "code",
   "execution_count": null,
   "id": "66d87be3-293b-4a61-ae2d-852d5e06c042",
   "metadata": {
    "tags": []
   },
   "outputs": [],
   "source": []
  },
  {
   "cell_type": "code",
   "execution_count": null,
   "id": "c13f529d-bf45-475f-9de4-fcdf88acd325",
   "metadata": {
    "tags": []
   },
   "outputs": [],
   "source": []
  },
  {
   "cell_type": "code",
   "execution_count": null,
   "id": "e9aceba1-4988-43f3-9ae2-80fdac81e954",
   "metadata": {},
   "outputs": [],
   "source": [
    "    \n",
    "\n",
    "def add_basispramie_to_one_company(company_dict):\n",
    "    '''\n",
    "    INPUT:\n",
    "        {'total_sum': '12.649.000,18',\n",
    "          'link_total_sum': '',\n",
    "          'company': 'Land Mecklenburg-Vorpommern Ministerium für – 19061 Schwerin, Landeshauptstadt',\n",
    "          'link_company': '/karten/agrarsubventionen_2021-empfaenger22becefcfe9631bdec63c6f251515d00.html',\n",
    "          'location': 'Kreisfreie Stadt Schwerin, Landeshauptstadt',\n",
    "          'link_location': '/karten/kreisfreie_stadt_schwerin,_landeshauptstadt-agrarsubventionen_2021-landkreis_13004.html',\n",
    "          'Lander': 'Mecklenburg-Vorpommern',\n",
    "          'link_lander': '/karten/mecklenburg-vorpommern-agrarsubventionen_2021-bundesland_5a61ca66ef23199eb6afa5e9bb4779f1.html'},\n",
    "  \n",
    "  OUTPUT:\n",
    "      {'total_sum': '12.649.000,18',\n",
    "      'link_total_sum': '',\n",
    "      'company': 'Land Mecklenburg-Vorpommern Ministerium für – 19061 Schwerin, Landeshauptstadt',\n",
    "      'link_company': '/karten/agrarsubventionen_2021-empfaenger22becefcfe9631bdec63c6f251515d00.html',\n",
    "      'location': 'Kreisfreie Stadt Schwerin, Landeshauptstadt',\n",
    "      'link_location': '/karten/kreisfreie_stadt_schwerin,_landeshauptstadt-agrarsubventionen_2021-landkreis_13004.html',\n",
    "      'Lander': 'Mecklenburg-Vorpommern',\n",
    "      'link_lander': '/karten/mecklenburg-vorpommern-agrarsubventionen_2021-bundesland_5a61ca66ef23199eb6afa5e9bb4779f1.html'},\n",
    "      'basis_praemie': ....\n",
    "  \n",
    "  Explanation:\n",
    "  Out of the dict corresponding to one company the url is built up and the data is fetched with requeswt and parsed with soup\n",
    "  \n",
    "    '''\n",
    "    \n",
    "    basis_link = 'https://proplanta.de'\n",
    "    company_link = basis_link + company_dict['link_company']\n",
    "    company_dict['company_url'] = company_link\n",
    "    \n",
    "    basis_praemie = get_basis_praemie_from_url(company_link)\n",
    "    \n",
    "    company_dict['basis_praemie'] = basis_praemie\n",
    "    \n",
    "    return company_dict\n",
    "    \n",
    "    "
   ]
  },
  {
   "cell_type": "code",
   "execution_count": null,
   "id": "f2a1eda3-2fbe-48b6-8322-e0fbe87d8c39",
   "metadata": {},
   "outputs": [],
   "source": [
    "    "
   ]
  },
  {
   "cell_type": "code",
   "execution_count": null,
   "id": "1f8dfc60-27f6-4123-b4c3-6d003e3793a9",
   "metadata": {},
   "outputs": [],
   "source": [
    "data_one_page = get_data_of_one_url_table(all_urls[0])"
   ]
  },
  {
   "cell_type": "code",
   "execution_count": null,
   "id": "f9dbed62-0b3a-49fa-8e1a-b6439cbd440a",
   "metadata": {},
   "outputs": [],
   "source": [
    "example_dict = {'total_sum': '12.649.000,18',\n",
    "  'link_total_sum': '',\n",
    "  'company': 'Land Mecklenburg-Vorpommern Ministerium für – 19061 Schwerin, Landeshauptstadt',\n",
    "  'link_company': '/karten/agrarsubventionen_2021-empfaenger22becefcfe9631bdec63c6f251515d00.html',\n",
    "  'location': 'Kreisfreie Stadt Schwerin, Landeshauptstadt',\n",
    "  'link_location': '/karten/kreisfreie_stadt_schwerin,_landeshauptstadt-agrarsubventionen_2021-landkreis_13004.html',\n",
    "  'Lander': 'Mecklenburg-Vorpommern',\n",
    "  'link_lander': '/karten/mecklenburg-vorpommern-agrarsubventionen_2021-bundesland_5a61ca66ef23199eb6afa5e9bb4779f1.html'}\n",
    "\n",
    "adding_basis = add_basispramie_to_one_company(example_dict)\n",
    "adding_basis"
   ]
  },
  {
   "cell_type": "code",
   "execution_count": null,
   "id": "3f206a05-6fd1-4355-ac08-21a78e80057a",
   "metadata": {},
   "outputs": [],
   "source": [
    "# This is a small example of two urls that list only 2 companies per table each one.\n",
    "L = 2\n",
    "N=2\n",
    "all_urls = [f'https://www.proplanta.de/Agrarsubventionen-2021-Liste-der-Empfaenger/proplanta_karten.php?ROalAk=271605&LaZ={L}&LsZ={N}&ROalAk=271605&SELECTID=1653383570&SEARCH_SHOWBEGS=1653383570',\n",
    "           f'https://www.proplanta.de/Agrarsubventionen-2021-Liste-der-Empfaenger/proplanta_karten.php?ROalAk=271605&LaZ={L}&LsZ={N}&ROalAk=271605&SELECTID=1653383570&SEARCH_SHOWBEGS=1653383570']\n",
    "all_urls\n",
    "\n"
   ]
  },
  {
   "cell_type": "code",
   "execution_count": null,
   "id": "bc64de43-3ead-402e-95dc-0689172b9fdc",
   "metadata": {},
   "outputs": [],
   "source": [
    "len(elements_of_one_row)"
   ]
  },
  {
   "cell_type": "code",
   "execution_count": null,
   "id": "eaaae851-aa8a-49bc-affd-68863d218dac",
   "metadata": {},
   "outputs": [],
   "source": [
    "myhtml='''<table class=\"theone\">\n",
    "<td class=\"even\" ><strong>12.649.000,18</strong></td>\n",
    " <td class=\"even\" ><a href=\"/whatever/1.html\" target=\"_blank\">Brusels</a></td>\n",
    " <td class=\"even\" ><a href=\"/whatever/2.html\" target=\"_blank\">Belgium</a></td>\n",
    " <td class=\"even\" >blue</td></table>'''\n",
    "soup = BeautifulSoup(myhtml, \"lxml\")\n",
    "    \n",
    "table = soup.find(\"table\",{\"class\":\"theone\"})\n",
    "table"
   ]
  },
  {
   "cell_type": "code",
   "execution_count": null,
   "id": "16115957-064d-4bfa-9cf3-d8faa2781ad8",
   "metadata": {},
   "outputs": [],
   "source": [
    "url=\"https://www.proplanta.de/karten/agrarsubventionen_2021-empfaengerdf84d31e9962677007bce3207ac3bee9.html\"\n",
    "url_no_basis = \"https://proplanta.de/karten/agrarsubventionen_2021-empfaenger22becefcfe9631bdec63c6f251515d00.html\"\n",
    "print(url)\n",
    "html_content = requests.get(url_no_basis).text"
   ]
  },
  {
   "cell_type": "markdown",
   "id": "b8ab88c6-8edc-4f65-9420-8995a93183bc",
   "metadata": {},
   "source": [
    "# EXMAPLES beautiful soup"
   ]
  },
  {
   "cell_type": "code",
   "execution_count": 66,
   "id": "4774db36-ed33-47c0-bc28-8de9ebea187e",
   "metadata": {},
   "outputs": [],
   "source": [
    "#with basis pramie\n",
    "html_content1=\"\"\"<h3 style=\"cear: both;\"><abbr title=\"Europäischer Garantiefonds für Landwirtschaft\">EGFL</abbr>: Basisprämie</h3>\n",
    "<div class=\"massnahmenbeschreibung\">\n",
    "<p>Infolge der Reform der Gemeinsamen Agrarpolitik (GAP) wurde die bis einschließlich 2014 geltende Betriebsprämie durch ein System aus Direktzahlungen bestehend aus Basisprämie, Umverteilungsprämie, Greeningprämie und ggf. Junglandwirteprämie ersetzt.Die Basisprämie entspricht in ihrem Charakter im Grundsatz der bisherigen Betriebsprämie. Sie basiert ebenfalls auf einem System von Zahlungsansprüchen, die den Betriebsinhabern grundsätzlich im Jahr 2015 auf Antrag entsprechend dem Umfang der von ihnen angemeldeten beihilfefähigen Flächen neu zugewiesen wurden. Der Betriebsinhaber meldet in jedem Antragsjahr seine beihilfefähigen Flächen und Zahlungsansprüche an, wobei die Aktivierung eines Zahlungsanspruchs mit einem Hektar beihilfefähiger Fläche zur Auszahlung der Basisprämie führt.Alle Zahlungsansprüche in einer Region (in der Regel = Bundesland) hatten zu Beginn der derzeitigen Förderperiode in 2015 denselben Wert. Die je Region unterschiedlich hohen Werte der Zahlungsansprüche wurden zwischen 2017 und 2019 schrittweise abgebaut, so dass sie seit 2019 in ganz Deutschland einen einheitlichen Wert haben.Die Basisprämie dient der Einkommenssicherung und Risikoabsicherung der landwirtschaftlichen Betriebe sowie auch als finanzieller Ausgleich für die weit höheren Umweltschutz-, Tierschutz- und Verbraucherschutzstandards in der EU im Vergleich zu den Produktionsauflagen von Mitbewerbern auf dem Weltmarkt. Sie ist wie alle anderen Direktzahlungen unmittelbar an die Einhaltung zahlreicher weiterer Auflagen gebunden (sog. \"Cross-Compliance-Instrument\"). Neben 13 schon bestehenden EU-Verordnungen und Richtlinien des Natur-, Umwelt-, Tier- und Verbraucherschutzes, deren Einhaltung laufend und streng überprüft wird, sind Vorgaben zur Erosionsvermeidung als zusätzlich zu erbringende Leistungen ebenso vorgeschrieben worden wie Maßnahmen zur Erhaltung der Bodenfruchtbarkeit und zum Gewässerschutz. Ebenso ist die Beseitigung von Landschaftselementen wie Hecken, Baumreihen und Feldgehölzen verboten. Durch Mindestanforderungen an die Bodenbedeckung bei aus der Produktion genommenen Flächen und dem Erhalt von ökologisch wertvollen Strukturelementen als Rückzugsgebiete für wildlebende Tierarten in intensiv genutzten Agrarlandschaften leisten die Direktzahlungen so einen Beitrag zum Erhalt landeskultureller Werte und zum Klimaschutz.</p></div>\n",
    "<p style=\"margin-bottom: 0; text-align: right;\">\n",
    "<span class=\"betrag\">322.347,04 €</span>\n",
    "</p>\n",
    "\"\"\"\n",
    "# without basispremie\n",
    "html_content2 =\"\"\"\n",
    "<h3 style=\"cear: both;\">\n",
    "<abbr title=\"European Union\">EU</abbr>Investment</h3>\n",
    "<div class=\"conditions\">\n",
    "<p>bla bla bla\n",
    "</p>\n",
    "</div>\n",
    "<p style=\"margin-bottom: 0;\">\n",
    "<span class=\"amount\">66000 €</span>\n",
    "</p>\"\"\""
   ]
  },
  {
   "cell_type": "code",
   "execution_count": 73,
   "id": "c86c040e-027a-41a0-9020-2b751741cd53",
   "metadata": {},
   "outputs": [],
   "source": [
    "html_content=html_content2\n",
    "soup = BeautifulSoup(html_content, \"lxml\")"
   ]
  },
  {
   "cell_type": "code",
   "execution_count": 74,
   "id": "9dcc4d0e-1552-4861-9b07-163a5bb68d3e",
   "metadata": {},
   "outputs": [
    {
     "ename": "AttributeError",
     "evalue": "'NoneType' object has no attribute 'find_next'",
     "output_type": "error",
     "traceback": [
      "\u001b[0;31m---------------------------------------------------------------------------\u001b[0m",
      "\u001b[0;31mAttributeError\u001b[0m                            Traceback (most recent call last)",
      "\u001b[0;32m/var/folders/0v/yx25cfb170j5rpflmwh9zkdw0000gn/T/ipykernel_66632/2086773943.py\u001b[0m in \u001b[0;36m<module>\u001b[0;34m\u001b[0m\n\u001b[0;32m----> 1\u001b[0;31m \u001b[0mt3\u001b[0m \u001b[0;34m=\u001b[0m \u001b[0;34m(\u001b[0m\u001b[0msoup\u001b[0m\u001b[0;34m.\u001b[0m\u001b[0mfind\u001b[0m\u001b[0;34m(\u001b[0m\u001b[0;32mlambda\u001b[0m \u001b[0mtag\u001b[0m\u001b[0;34m:\u001b[0m \u001b[0mtag\u001b[0m\u001b[0;34m.\u001b[0m\u001b[0mname\u001b[0m \u001b[0;34m==\u001b[0m \u001b[0;34m\"h3\"\u001b[0m \u001b[0;32mand\u001b[0m \u001b[0;34m\"Basisprämie\"\u001b[0m \u001b[0;32min\u001b[0m \u001b[0mtag\u001b[0m\u001b[0;34m.\u001b[0m\u001b[0mtext\u001b[0m\u001b[0;34m)\u001b[0m\u001b[0;34m.\u001b[0m\u001b[0mfind_next\u001b[0m\u001b[0;34m(\u001b[0m\u001b[0;34m\"span\"\u001b[0m\u001b[0;34m,\u001b[0m \u001b[0mclass_\u001b[0m\u001b[0;34m=\u001b[0m\u001b[0;34m\"amount\"\u001b[0m\u001b[0;34m)\u001b[0m\u001b[0;34m.\u001b[0m\u001b[0mtext\u001b[0m\u001b[0;34m)\u001b[0m\u001b[0;34m\u001b[0m\u001b[0;34m\u001b[0m\u001b[0m\n\u001b[0m\u001b[1;32m      2\u001b[0m \u001b[0mt3\u001b[0m\u001b[0;34m\u001b[0m\u001b[0;34m\u001b[0m\u001b[0m\n",
      "\u001b[0;31mAttributeError\u001b[0m: 'NoneType' object has no attribute 'find_next'"
     ]
    }
   ],
   "source": [
    "t3 = (soup.find(lambda tag: tag.name == \"h3\" and \"Basisprämie\" in tag.text).find_next(\"span\", class_=\"amount\").text)\n",
    "t3"
   ]
  },
  {
   "cell_type": "code",
   "execution_count": 77,
   "id": "cbb8f06c-65e4-4255-9fff-cd5e6ad4eda3",
   "metadata": {},
   "outputs": [
    {
     "data": {
      "text/plain": [
       "'66000 €'"
      ]
     },
     "execution_count": 77,
     "metadata": {},
     "output_type": "execute_result"
    }
   ],
   "source": [
    "t3 = (soup.find(lambda tag: tag.name == \"h3\" and \"Investment\" in tag.text).find_next(\"span\", class_=\"amount\").text)\n",
    "t3"
   ]
  },
  {
   "cell_type": "code",
   "execution_count": 57,
   "id": "b5afeddf-3b86-4c3c-9ad0-245c65c8ec2c",
   "metadata": {},
   "outputs": [],
   "source": [
    "t4=soup.find(lambda tag:tag.name==\"h3\" and 'Investment' in tag.text)"
   ]
  },
  {
   "cell_type": "code",
   "execution_count": 58,
   "id": "3bf2c77e-38fd-40f6-9d84-6e1270b7d4bd",
   "metadata": {},
   "outputs": [
    {
     "name": "stdout",
     "output_type": "stream",
     "text": [
      "\n",
      "EUInvestment\n",
      "[<class 'bs4.element.NavigableString'>, <class 'bs4.element.Tag'>, <class 'bs4.element.NavigableString'>]\n"
     ]
    }
   ],
   "source": [
    "print(t4.text)\n",
    "print([type(r) for r in t4.contents])"
   ]
  },
  {
   "cell_type": "code",
   "execution_count": null,
   "id": "774a0858-32a6-4b42-a509-f467a5cd54f2",
   "metadata": {},
   "outputs": [],
   "source": [
    "#print(soup)<div id=\"agrar_subventions_empfaenger\">\n",
    "def my_span(tag):\n",
    "    return tag.name=='span' and \"betrag\" in tag\n",
    "\n",
    "#tags = soup.find_all(my_span)\n",
    "result2 =soup.find(\"span\", {\"class\":\"betrag\"})\n",
    "dir(result2)"
   ]
  },
  {
   "cell_type": "code",
   "execution_count": null,
   "id": "b2359351-b300-4246-88cd-ff85dbfd858d",
   "metadata": {},
   "outputs": [],
   "source": [
    "t =soup.find(lambda tag:tag.name==\"h3\" and \": Basisprämie\")\n",
    "t2 =t.find_next_sibling().find_next_sibling(\"p\").find(\"span\").contents\n",
    "t2"
   ]
  },
  {
   "cell_type": "code",
   "execution_count": null,
   "id": "b338f186-f02a-4cd6-945e-87330b69cb69",
   "metadata": {},
   "outputs": [],
   "source": []
  },
  {
   "cell_type": "code",
   "execution_count": null,
   "id": "685f9dd2-5868-4c95-8ef2-5e528a7282e2",
   "metadata": {},
   "outputs": [],
   "source": [
    "for element in t.find_next_sibling():\n",
    "    print(element.contents)"
   ]
  },
  {
   "cell_type": "code",
   "execution_count": null,
   "id": "1234db6a-cad3-403d-a3d1-c824ffe67a3b",
   "metadata": {},
   "outputs": [],
   "source": [
    "parameters = [i*200 for i in range(5)] # here substitute 20 by 1359\n",
    "\n",
    "all_urls = [] \n",
    "for j,para in enumerate(parameters):\n",
    "    # building the url\n",
    "    url = f\"https://www.proplanta.de/Agrarsubventionen-2021-Liste-der-Empfaenger/proplanta_karten.php?ROalAk=271605&LaZ=200&LsZ={para}&ROalAk=271605&SELECTID=1653383570&SEARCH_SHOWBEGS=1653383570\"\n",
    "    all_urls.append(url)\n",
    "\n",
    "all_tables_of_all_urls = []\n",
    "for url in all_urls:\n",
    "    all_tables_of_url = pd.read_html(url)\n",
    "    good_tables_of_single_url = []\n",
    "    for i,table in enumerate(all_tables):\n",
    "        # decide if it is a good table\n",
    "        cn=table.columns.tolist()\n",
    "        if 'Begünstigter' in cn and 'Landkreis' in cn and 'Bundesland' in cn:\n",
    "            good_tables_of_single_url.append(table)\n",
    "    df_of_single_url_page = pd.concat(good_tables_of_single_url)\n",
    "    all_tables_of_all_urls.append(df_of_single_url_page)"
   ]
  },
  {
   "cell_type": "code",
   "execution_count": null,
   "id": "65e39657-9b3b-4c25-af2b-1f8478feb3a6",
   "metadata": {},
   "outputs": [],
   "source": [
    "df_all = pd.concat( all_tables_of_all_urls)"
   ]
  },
  {
   "cell_type": "code",
   "execution_count": null,
   "id": "d69a5b04-08a7-401b-9593-505e9236b40a",
   "metadata": {},
   "outputs": [],
   "source": [
    "df_all\n"
   ]
  },
  {
   "cell_type": "code",
   "execution_count": null,
   "id": "b921952e-9099-43a2-83db-852c78988db2",
   "metadata": {},
   "outputs": [],
   "source": [
    "\n",
    "today = time.strftime(\"%Y-%m-%d\")\n"
   ]
  },
  {
   "cell_type": "code",
   "execution_count": null,
   "id": "19b3d8d5-41dd-45b7-b36a-7068e7585209",
   "metadata": {},
   "outputs": [],
   "source": []
  }
 ],
 "metadata": {
  "kernelspec": {
   "display_name": "Python 3 (ipykernel)",
   "language": "python",
   "name": "python3"
  },
  "language_info": {
   "codemirror_mode": {
    "name": "ipython",
    "version": 3
   },
   "file_extension": ".py",
   "mimetype": "text/x-python",
   "name": "python",
   "nbconvert_exporter": "python",
   "pygments_lexer": "ipython3",
   "version": "3.9.7"
  }
 },
 "nbformat": 4,
 "nbformat_minor": 5
}
